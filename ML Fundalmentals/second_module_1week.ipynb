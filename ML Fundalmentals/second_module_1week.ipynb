{
 "cells": [
  {
   "cell_type": "code",
   "execution_count": 2,
   "metadata": {},
   "outputs": [
    {
     "name": "stdout",
     "output_type": "stream",
     "text": [
      "Model using bedrooms has the lowest RSS on test data.\n",
      "Predicted Price for a House with 2650 sqft (using sqft model): -141702015.55228308\n",
      "Predicted Price for a House with 3 bedrooms (using bedrooms model): 516673.5508258107\n"
     ]
    }
   ],
   "source": [
    "import pandas as pd\n",
    "import numpy as np\n",
    "\n",
    "# Load the DataFrame from CSV\n",
    "df = pd.read_csv('kc_house_data.csv')  # Replace 'your_dataset.csv' with the actual filename\n",
    "\n",
    "# Define functions for linear regression, RSS, and prediction\n",
    "def simple_linear_regression(input_feature, output):\n",
    "    input_array = np.array(input_feature)\n",
    "    output_array = np.array(output)\n",
    "    \n",
    "    # Calculate necessary sums\n",
    "    n = len(input_array)\n",
    "    sum_x = np.sum(input_array)\n",
    "    sum_y = np.sum(output_array)\n",
    "    sum_xy = np.sum(input_array * output_array)\n",
    "    sum_x_squared = np.sum(input_array**2)\n",
    "    \n",
    "    # Calculate slope (beta1) using closed-form solution\n",
    "    slope = (sum_xy - (sum_x * sum_y) / n) / (sum_x_squared - (sum_x**2) / n)\n",
    "    \n",
    "    # Calculate intercept (beta0)\n",
    "    intercept = (sum_y - slope * sum_x) / n\n",
    "    \n",
    "    return intercept, slope\n",
    "    \n",
    "\n",
    "def calculate_rss(input_feature, output, slope, intercept):\n",
    "    input_array = np.array(input_feature)\n",
    "    output_array = np.array(output)\n",
    "    predicted_output = intercept + slope * input_array\n",
    "    residuals = output_array - predicted_output\n",
    "    rss = np.sum(residuals**2)\n",
    "    return rss# ... (same function as earlier)\n",
    "    \n",
    "\n",
    "def predict_output(input_feature, slope, intercept):\n",
    "    input_array = np.array(input_feature)\n",
    "    predicted_output = intercept + slope * input_array\n",
    "    return predicted_output\n",
    "\n",
    "\n",
    "# Assuming you have columns named 'sqft_living', 'bedrooms', and 'price' in your DataFrame\n",
    "# Split data into train and test sets\n",
    "train_data = df.sample(frac=0.8, random_state=42)\n",
    "test_data = df.drop(train_data.index)\n",
    "\n",
    "# Train the model on the training data\n",
    "slope_sqft, intercept_sqft = simple_linear_regression(train_data['sqft_living'], train_data['price'])\n",
    "slope_bedrooms, intercept_bedrooms = simple_linear_regression(train_data['bedrooms'], train_data['price'])\n",
    "\n",
    "# Calculate RSS on test data\n",
    "rss_sqft = calculate_rss(test_data['sqft_living'], test_data['price'], slope_sqft, intercept_sqft)\n",
    "rss_bedrooms = calculate_rss(test_data['bedrooms'], test_data['price'], slope_bedrooms, intercept_bedrooms)\n",
    "\n",
    "# Compare and print the results\n",
    "if rss_sqft < rss_bedrooms:\n",
    "    print(\"Model using square feet has the lowest RSS on test data.\")\n",
    "else:\n",
    "    print(\"Model using bedrooms has the lowest RSS on test data.\")\n",
    "\n",
    "# Predict the price for a house with 2650 sqft\n",
    "sqft_to_predict = 2650\n",
    "predicted_price_sqft = predict_output(sqft_to_predict, slope_sqft, intercept_sqft)\n",
    "print(\"Predicted Price for a House with 2650 sqft (using sqft model):\", predicted_price_sqft)\n",
    "\n",
    "# Predict the price for a house with certain number of bedrooms\n",
    "bedrooms_to_predict = 3  # Specify the number of bedrooms you want to predict\n",
    "predicted_price_bedrooms = predict_output(bedrooms_to_predict, slope_bedrooms, intercept_bedrooms)\n",
    "print(\"Predicted Price for a House with\", bedrooms_to_predict, \"bedrooms (using bedrooms model):\", predicted_price_bedrooms)"
   ]
  },
  {
   "cell_type": "code",
   "execution_count": 7,
   "metadata": {},
   "outputs": [
    {
     "name": "stdout",
     "output_type": "stream",
     "text": [
      "Slope for square feet model: -53472.56642647893\n",
      "Intercept for square feet model: 285.4778860892352\n",
      "Slope for bedrooms model: 131805.68353624095\n",
      "Intercept for bedrooms model: 121256.50021708787\n",
      "Model using bedrooms has the lowest RSS on test data.\n",
      "Predicted Price for a House with 2650 sqft (using sqft model): -141702015.55228308\n",
      "Predicted Price for a House with 3 bedrooms (using bedrooms model): 516673.5508258107\n"
     ]
    }
   ],
   "source": [
    "slope_sqft, intercept_sqft = simple_linear_regression(train_data['sqft_living'], train_data['price'])\n",
    "slope_bedrooms, intercept_bedrooms = simple_linear_regression(train_data['bedrooms'], train_data['price'])\n",
    "\n",
    "# Print the calculated slopes and intercepts\n",
    "print(\"Slope for square feet model:\", slope_sqft)\n",
    "print(\"Intercept for square feet model:\", intercept_sqft)\n",
    "print(\"Slope for bedrooms model:\", slope_bedrooms)\n",
    "print(\"Intercept for bedrooms model:\", intercept_bedrooms)\n",
    "\n",
    "# Calculate RSS on test data\n",
    "rss_sqft = calculate_rss(test_data['sqft_living'], test_data['price'], slope_sqft, intercept_sqft)\n",
    "rss_bedrooms = calculate_rss(test_data['bedrooms'], test_data['price'], slope_bedrooms, intercept_bedrooms)\n",
    "\n",
    "# Compare and print the results\n",
    "if rss_sqft < rss_bedrooms:\n",
    "    print(\"Model using square feet has the lowest RSS on test data.\")\n",
    "else:\n",
    "    print(\"Model using bedrooms has the lowest RSS on test data.\")\n",
    "\n",
    "# Predict the price for a house with 2650 sqft\n",
    "sqft_to_predict = 2650\n",
    "predicted_price_sqft = predict_output(sqft_to_predict, slope_sqft, intercept_sqft)\n",
    "print(\"Predicted Price for a House with 2650 sqft (using sqft model):\", predicted_price_sqft)\n",
    "\n",
    "# Predict the price for a house with a certain number of bedrooms\n",
    "bedrooms_to_predict = 3  # Specify the number of bedrooms you want to predict\n",
    "predicted_price_bedrooms = predict_output(bedrooms_to_predict, slope_bedrooms, intercept_bedrooms)\n",
    "print(\"Predicted Price for a House with\", bedrooms_to_predict, \"bedrooms (using bedrooms model):\", predicted_price_bedrooms)"
   ]
  },
  {
   "cell_type": "code",
   "execution_count": 8,
   "metadata": {},
   "outputs": [
    {
     "name": "stdout",
     "output_type": "stream",
     "text": [
      "Estimated Square Feet for a House Costing $800,000: -14.955603883600066\n"
     ]
    }
   ],
   "source": [
    "\n",
    "def simple_linear_regression(input_feature, output):\n",
    "    input_array = np.array(input_feature)\n",
    "    output_array = np.array(output)\n",
    "    \n",
    "    # Calculate necessary sums\n",
    "    n = len(input_array)\n",
    "    sum_x = np.sum(input_array)\n",
    "    sum_y = np.sum(output_array)\n",
    "    sum_xy = np.sum(input_array * output_array)\n",
    "    sum_x_squared = np.sum(input_array**2)\n",
    "    \n",
    "    # Calculate slope (beta1) using closed-form solution\n",
    "    slope = (sum_xy - (sum_x * sum_y) / n) / (sum_x_squared - (sum_x**2) / n)\n",
    "    \n",
    "    # Calculate intercept (beta0)\n",
    "    intercept = (sum_y - slope * sum_x) / n\n",
    "    \n",
    "    return intercept, slope\n",
    "    \n",
    "\n",
    "# Given regression parameters\n",
    "slope = -53472.56642647893150\n",
    "intercept = 285.477886089235210000\n",
    "\n",
    "# Given house price\n",
    "house_price = 800000\n",
    "\n",
    "# Calculate estimated square footage using the inverse regression function\n",
    "estimated_sqft = (house_price - intercept) / slope\n",
    "\n",
    "print(\"Estimated Square Feet for a House Costing $800,000:\", estimated_sqft)"
   ]
  }
 ],
 "metadata": {
  "kernelspec": {
   "display_name": "Python 3",
   "language": "python",
   "name": "python3"
  },
  "language_info": {
   "codemirror_mode": {
    "name": "ipython",
    "version": 3
   },
   "file_extension": ".py",
   "mimetype": "text/x-python",
   "name": "python",
   "nbconvert_exporter": "python",
   "pygments_lexer": "ipython3",
   "version": "3.11.4"
  },
  "orig_nbformat": 4
 },
 "nbformat": 4,
 "nbformat_minor": 2
}
