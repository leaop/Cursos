{
 "cells": [
  {
   "cell_type": "code",
   "execution_count": 82,
   "metadata": {},
   "outputs": [],
   "source": [
    "import numpy as np\n",
    "import pandas as pd\n",
    "import requests\n",
    "import matplotlib.pyplot as plt\n",
    "from datetime import datetime, timedelta"
   ]
  },
  {
   "cell_type": "code",
   "execution_count": 83,
   "metadata": {},
   "outputs": [
    {
     "name": "stdout",
     "output_type": "stream",
     "text": [
      "Arquivo 'LEAO_PEREIRA.xlsx' salvo com sucesso!\n"
     ]
    }
   ],
   "source": [
    "# Chave da API obtida no RapidAPI\n",
    "headers = {\n",
    "    'x-rapidapi-host': \"currency-exchange.p.rapidapi.com\",\n",
    "    'x-rapidapi-key': \"97b52f616amsh8ff4be3f936deefp1bcff9jsne88fc0d9a374\"\n",
    "}\n",
    "\n",
    "url = \"https://currency-exchange.p.rapidapi.com/exchange\"\n",
    "\n",
    "# Lista de códigos de moedas para as quais você deseja converter o BRL\n",
    "# Dentro de pesquisa em sites de investimento, essas seriam as 20 moedas mais utilizadas.\n",
    "moedas_destino = ['USD', 'EUR', 'JPY', 'GBP', 'AUD', 'CAD', 'CHF', 'CNY', 'SEK', 'NZD', 'MXN', 'NZD', 'SGD', 'HKD','NOK','KRW', 'TRY', 'INR', 'RUB','ZAR'] \n",
    "\n",
    "# Lista para armazenar os resultados\n",
    "resultados = []\n",
    "\n",
    "# Loop para processar a conversão de BRL para cada moeda de destino\n",
    "for moeda in moedas_destino:\n",
    "    # Parametro seria a comparação das outras moedas com o real (BRL)\n",
    "    params = {\"from\": \"BRL\", \"to\": moeda, \"q\": \"1.0\"}\n",
    "    #requisição GET com os parametros desejados (parametros)\n",
    "    response = requests.get(url, headers=headers, params=params)\n",
    "    # Sendo a resposta bem sucedida (code=200) converte a resposta em texto\n",
    "    if response.status_code == 200:\n",
    "        # o texto resultado vai para o dicionario 'resultados'\n",
    "        exchange_rate = response.text\n",
    "        resultados.append({\n",
    "            'Moeda Origem': 'BRL',\n",
    "            'Moeda Destino': moeda,\n",
    "            'Quantidade': params['q'],\n",
    "            'Taxa de Câmbio': exchange_rate\n",
    "        })\n",
    "\n",
    "#DataFrame com os resultados\n",
    "df = pd.DataFrame(resultados)\n",
    "\n",
    "# Criação do arquivo\n",
    "file_name = 'LEAO_PEREIRA.xlsx'\n",
    "df.to_excel(file_name, index=False)\n",
    "\n",
    "print(f\"Arquivo '{file_name}' salvo com sucesso!\")\n",
    "\n"
   ]
  },
  {
   "cell_type": "markdown",
   "metadata": {},
   "source": [
    "## Exploração da base de dados"
   ]
  },
  {
   "cell_type": "markdown",
   "metadata": {},
   "source": [
    "* Composiçaõ das primeiras linhas"
   ]
  },
  {
   "cell_type": "code",
   "execution_count": 84,
   "metadata": {},
   "outputs": [
    {
     "data": {
      "text/html": [
       "<div>\n",
       "<style scoped>\n",
       "    .dataframe tbody tr th:only-of-type {\n",
       "        vertical-align: middle;\n",
       "    }\n",
       "\n",
       "    .dataframe tbody tr th {\n",
       "        vertical-align: top;\n",
       "    }\n",
       "\n",
       "    .dataframe thead th {\n",
       "        text-align: right;\n",
       "    }\n",
       "</style>\n",
       "<table border=\"1\" class=\"dataframe\">\n",
       "  <thead>\n",
       "    <tr style=\"text-align: right;\">\n",
       "      <th></th>\n",
       "      <th>Moeda Origem</th>\n",
       "      <th>Moeda Destino</th>\n",
       "      <th>Quantidade</th>\n",
       "      <th>Taxa de Câmbio</th>\n",
       "    </tr>\n",
       "  </thead>\n",
       "  <tbody>\n",
       "    <tr>\n",
       "      <th>0</th>\n",
       "      <td>BRL</td>\n",
       "      <td>USD</td>\n",
       "      <td>1.0</td>\n",
       "      <td>0.2007911</td>\n",
       "    </tr>\n",
       "    <tr>\n",
       "      <th>1</th>\n",
       "      <td>BRL</td>\n",
       "      <td>EUR</td>\n",
       "      <td>1.0</td>\n",
       "      <td>0.1856224311</td>\n",
       "    </tr>\n",
       "    <tr>\n",
       "      <th>2</th>\n",
       "      <td>BRL</td>\n",
       "      <td>JPY</td>\n",
       "      <td>1.0</td>\n",
       "      <td>30.332</td>\n",
       "    </tr>\n",
       "    <tr>\n",
       "      <th>3</th>\n",
       "      <td>BRL</td>\n",
       "      <td>GBP</td>\n",
       "      <td>1.0</td>\n",
       "      <td>0.1588960369</td>\n",
       "    </tr>\n",
       "    <tr>\n",
       "      <th>4</th>\n",
       "      <td>BRL</td>\n",
       "      <td>AUD</td>\n",
       "      <td>1.0</td>\n",
       "      <td>0.30749952210000003</td>\n",
       "    </tr>\n",
       "  </tbody>\n",
       "</table>\n",
       "</div>"
      ],
      "text/plain": [
       "  Moeda Origem Moeda Destino Quantidade       Taxa de Câmbio\n",
       "0          BRL           USD        1.0            0.2007911\n",
       "1          BRL           EUR        1.0         0.1856224311\n",
       "2          BRL           JPY        1.0               30.332\n",
       "3          BRL           GBP        1.0         0.1588960369\n",
       "4          BRL           AUD        1.0  0.30749952210000003"
      ]
     },
     "execution_count": 84,
     "metadata": {},
     "output_type": "execute_result"
    }
   ],
   "source": [
    "df.head()"
   ]
  },
  {
   "cell_type": "markdown",
   "metadata": {},
   "source": [
    "* tipos dos dados"
   ]
  },
  {
   "cell_type": "code",
   "execution_count": 85,
   "metadata": {},
   "outputs": [
    {
     "data": {
      "text/plain": [
       "Moeda Origem      object\n",
       "Moeda Destino     object\n",
       "Quantidade        object\n",
       "Taxa de Câmbio    object\n",
       "dtype: object"
      ]
     },
     "execution_count": 85,
     "metadata": {},
     "output_type": "execute_result"
    }
   ],
   "source": [
    "df.dtypes"
   ]
  },
  {
   "cell_type": "markdown",
   "metadata": {},
   "source": [
    "* Conversão do tipo para um dado que mantenha a maior precisão e ainda possa ser analisado"
   ]
  },
  {
   "cell_type": "code",
   "execution_count": 86,
   "metadata": {},
   "outputs": [
    {
     "data": {
      "text/plain": [
       "Moeda Origem       object\n",
       "Moeda Destino      object\n",
       "Quantidade         object\n",
       "Taxa de Câmbio    float64\n",
       "dtype: object"
      ]
     },
     "execution_count": 86,
     "metadata": {},
     "output_type": "execute_result"
    }
   ],
   "source": [
    "df['Taxa de Câmbio'] = df['Taxa de Câmbio'].astype(object).astype(float)\n",
    "\n",
    "df.dtypes"
   ]
  },
  {
   "cell_type": "markdown",
   "metadata": {},
   "source": [
    "* verificação da existencia de nulos ou vazios"
   ]
  },
  {
   "cell_type": "code",
   "execution_count": 87,
   "metadata": {},
   "outputs": [
    {
     "data": {
      "text/plain": [
       "Moeda Origem      0.0\n",
       "Moeda Destino     0.0\n",
       "Quantidade        0.0\n",
       "Taxa de Câmbio    0.0\n",
       "dtype: float64"
      ]
     },
     "execution_count": 87,
     "metadata": {},
     "output_type": "execute_result"
    }
   ],
   "source": [
    "df.isna().sum() / len(df)"
   ]
  },
  {
   "cell_type": "markdown",
   "metadata": {},
   "source": [
    "* obtenção das médias e quartis"
   ]
  },
  {
   "cell_type": "code",
   "execution_count": 88,
   "metadata": {},
   "outputs": [
    {
     "data": {
      "text/html": [
       "<div>\n",
       "<style scoped>\n",
       "    .dataframe tbody tr th:only-of-type {\n",
       "        vertical-align: middle;\n",
       "    }\n",
       "\n",
       "    .dataframe tbody tr th {\n",
       "        vertical-align: top;\n",
       "    }\n",
       "\n",
       "    .dataframe thead th {\n",
       "        text-align: right;\n",
       "    }\n",
       "</style>\n",
       "<table border=\"1\" class=\"dataframe\">\n",
       "  <thead>\n",
       "    <tr style=\"text-align: right;\">\n",
       "      <th></th>\n",
       "      <th>Taxa de Câmbio</th>\n",
       "    </tr>\n",
       "  </thead>\n",
       "  <tbody>\n",
       "    <tr>\n",
       "      <th>count</th>\n",
       "      <td>20.000000</td>\n",
       "    </tr>\n",
       "    <tr>\n",
       "      <th>mean</th>\n",
       "      <td>17.977358</td>\n",
       "    </tr>\n",
       "    <tr>\n",
       "      <th>std</th>\n",
       "      <td>60.037328</td>\n",
       "    </tr>\n",
       "    <tr>\n",
       "      <th>min</th>\n",
       "      <td>0.158896</td>\n",
       "    </tr>\n",
       "    <tr>\n",
       "      <th>25%</th>\n",
       "      <td>0.272216</td>\n",
       "    </tr>\n",
       "    <tr>\n",
       "      <th>50%</th>\n",
       "      <td>1.499191</td>\n",
       "    </tr>\n",
       "    <tr>\n",
       "      <th>75%</th>\n",
       "      <td>4.461232</td>\n",
       "    </tr>\n",
       "    <tr>\n",
       "      <th>max</th>\n",
       "      <td>270.780854</td>\n",
       "    </tr>\n",
       "  </tbody>\n",
       "</table>\n",
       "</div>"
      ],
      "text/plain": [
       "       Taxa de Câmbio\n",
       "count       20.000000\n",
       "mean        17.977358\n",
       "std         60.037328\n",
       "min          0.158896\n",
       "25%          0.272216\n",
       "50%          1.499191\n",
       "75%          4.461232\n",
       "max        270.780854"
      ]
     },
     "execution_count": 88,
     "metadata": {},
     "output_type": "execute_result"
    }
   ],
   "source": [
    "df.describe()"
   ]
  },
  {
   "cell_type": "markdown",
   "metadata": {},
   "source": [
    "* Visualização simples do describe"
   ]
  },
  {
   "cell_type": "code",
   "execution_count": 89,
   "metadata": {},
   "outputs": [
    {
     "data": {
      "image/png": "[encoded data removed]",
      "text/plain": [
       "<Figure size 640x480 with 1 Axes>"
      ]
     },
     "metadata": {},
     "output_type": "display_data"
    }
   ],
   "source": [
    "# Variável de armazemento para o grafico\n",
    "descricao = df['Taxa de Câmbio'].describe()\n",
    "\n",
    "# Cores diferenciadas para cada barra/quartil\n",
    "cores = ['red', 'green', 'blue', 'cyan', 'magenta']\n",
    "\n",
    "# Plote do gráfico de barras com as cores definidas\n",
    "ax = descricao.plot(kind='bar', color=cores)\n",
    "\n",
    "# Títulos e rótulos para clareza\n",
    "plt.title('Resumo Estatístico da Taxa de Câmbio')\n",
    "plt.xlabel('Estatísticas')\n",
    "plt.ylabel('Valor')\n",
    "\n",
    "# Iteração sobre as barras e adicione os rótulos de dados inclinados\n",
    "for i, p in enumerate(ax.patches):\n",
    "    # Rótulo com duas casas decimais\n",
    "    ax.annotate(f\"{p.get_height():.2f}\", # anotate para posicionar o texto\n",
    "                (p.get_x() + p.get_width() / 2., p.get_height()), \n",
    "                ha='center', va='center', \n",
    "                xytext=(0, 10), \n",
    "                textcoords='offset points',\n",
    "                rotation=45)  # Inclinação de 45 graus\n",
    "\n",
    "# Exibição\n",
    "plt.show()\n"
   ]
  },
  {
   "cell_type": "markdown",
   "metadata": {},
   "source": [
    "Aqui o que temos é basicamente a medida de diferença das outras moedas para o real, visualizando ainda a menor e a maior diferença entre as moedas. Logico que, como os dados são poucos, fica evidente a existencia de pelo menos um outlier que dificultaria a retirada de outras métricas"
   ]
  },
  {
   "cell_type": "markdown",
   "metadata": {},
   "source": [
    "## Alteração dos dados e tratamento"
   ]
  },
  {
   "cell_type": "markdown",
   "metadata": {},
   "source": [
    "A partir deste ponto nenhum dos dados serão reais, apenas serão utilizados dados criados para demonstração de conhecimento em codificação\n"
   ]
  },
  {
   "cell_type": "code",
   "execution_count": 90,
   "metadata": {},
   "outputs": [
    {
     "data": {
      "text/html": [
       "<div>\n",
       "<style scoped>\n",
       "    .dataframe tbody tr th:only-of-type {\n",
       "        vertical-align: middle;\n",
       "    }\n",
       "\n",
       "    .dataframe tbody tr th {\n",
       "        vertical-align: top;\n",
       "    }\n",
       "\n",
       "    .dataframe thead th {\n",
       "        text-align: right;\n",
       "    }\n",
       "</style>\n",
       "<table border=\"1\" class=\"dataframe\">\n",
       "  <thead>\n",
       "    <tr style=\"text-align: right;\">\n",
       "      <th></th>\n",
       "      <th>Moeda Origem</th>\n",
       "      <th>Moeda Destino</th>\n",
       "      <th>Quantidade</th>\n",
       "      <th>Taxa de Câmbio</th>\n",
       "    </tr>\n",
       "  </thead>\n",
       "  <tbody>\n",
       "    <tr>\n",
       "      <th>0</th>\n",
       "      <td>BRL</td>\n",
       "      <td>USD</td>\n",
       "      <td>1.0</td>\n",
       "      <td>0.200791</td>\n",
       "    </tr>\n",
       "    <tr>\n",
       "      <th>1</th>\n",
       "      <td>BRL</td>\n",
       "      <td>EUR</td>\n",
       "      <td>1.0</td>\n",
       "      <td>0.185622</td>\n",
       "    </tr>\n",
       "    <tr>\n",
       "      <th>2</th>\n",
       "      <td>BRL</td>\n",
       "      <td>JPY</td>\n",
       "      <td>1.0</td>\n",
       "      <td>30.332000</td>\n",
       "    </tr>\n",
       "    <tr>\n",
       "      <th>3</th>\n",
       "      <td>BRL</td>\n",
       "      <td>GBP</td>\n",
       "      <td>1.0</td>\n",
       "      <td>0.158896</td>\n",
       "    </tr>\n",
       "    <tr>\n",
       "      <th>4</th>\n",
       "      <td>BRL</td>\n",
       "      <td>AUD</td>\n",
       "      <td>1.0</td>\n",
       "      <td>0.307500</td>\n",
       "    </tr>\n",
       "  </tbody>\n",
       "</table>\n",
       "</div>"
      ],
      "text/plain": [
       "  Moeda Origem Moeda Destino Quantidade  Taxa de Câmbio\n",
       "0          BRL           USD        1.0        0.200791\n",
       "1          BRL           EUR        1.0        0.185622\n",
       "2          BRL           JPY        1.0       30.332000\n",
       "3          BRL           GBP        1.0        0.158896\n",
       "4          BRL           AUD        1.0        0.307500"
      ]
     },
     "execution_count": 90,
     "metadata": {},
     "output_type": "execute_result"
    }
   ],
   "source": [
    "df.head()"
   ]
  },
  {
   "cell_type": "code",
   "execution_count": 91,
   "metadata": {},
   "outputs": [
    {
     "name": "stdout",
     "output_type": "stream",
     "text": [
      "   Moeda Origem Moeda Destino Quantidade  Taxa de Câmbio\n",
      "0           BRL           USD        1.0        0.200791\n",
      "1           BRL           EUR        1.0        0.185622\n",
      "2           BRL           JPY        1.0       30.332000\n",
      "3           BRL           GBP        1.0        0.158896\n",
      "4           BRL           AUD        1.0        0.307500\n",
      "5           BRL           CAD        1.0        0.272799\n",
      "6           BRL           CHF        1.0        0.181917\n",
      "7           BRL           CNY        1.0        1.427570\n",
      "8           BRL           SEK        1.0        2.127356\n",
      "9           BRL           NZD        1.0        0.334215\n",
      "10          BRL           MXN        1.0        3.335100\n",
      "11          BRL           NZD        1.0        0.334215\n",
      "12          BRL           SGD        1.0        0.270469\n",
      "13          BRL           HKD        1.0        1.570812\n",
      "14          BRL           NOK        1.0        2.159526\n",
      "15          BRL           KRW        1.0      270.780854\n",
      "16          BRL           TRY        1.0        6.473873\n",
      "17          BRL           INR        1.0       16.733639\n",
      "18          BRL           RUB        1.0       18.569663\n",
      "19          BRL           ZAR        1.0        3.790352\n",
      "20          BRL           DKK       None             NaN\n",
      "21          BRL           PLN       None             NaN\n",
      "22          BRL           TWD       None             NaN\n",
      "23          BRL           THB       None             NaN\n",
      "24          BRL           MYR       None             NaN\n"
     ]
    },
    {
     "name": "stderr",
     "output_type": "stream",
     "text": [
      "C:\\Users\\LeaoN\\AppData\\Local\\Temp\\ipykernel_724\\999989474.py:4: FutureWarning: The behavior of DataFrame concatenation with empty or all-NA entries is deprecated. In a future version, this will no longer exclude empty or all-NA columns when determining the result dtypes. To retain the old behavior, exclude the relevant entries before the concat operation.\n",
      "  df.loc[len(df)] = ['BRL', 'DKK', None, None]\n",
      "C:\\Users\\LeaoN\\AppData\\Local\\Temp\\ipykernel_724\\999989474.py:7: FutureWarning: The behavior of DataFrame concatenation with empty or all-NA entries is deprecated. In a future version, this will no longer exclude empty or all-NA columns when determining the result dtypes. To retain the old behavior, exclude the relevant entries before the concat operation.\n",
      "  df.loc[len(df)] = ['BRL', 'PLN', None, None]\n",
      "C:\\Users\\LeaoN\\AppData\\Local\\Temp\\ipykernel_724\\999989474.py:10: FutureWarning: The behavior of DataFrame concatenation with empty or all-NA entries is deprecated. In a future version, this will no longer exclude empty or all-NA columns when determining the result dtypes. To retain the old behavior, exclude the relevant entries before the concat operation.\n",
      "  df.loc[len(df)] = ['BRL', 'TWD', None, None]\n",
      "C:\\Users\\LeaoN\\AppData\\Local\\Temp\\ipykernel_724\\999989474.py:13: FutureWarning: The behavior of DataFrame concatenation with empty or all-NA entries is deprecated. In a future version, this will no longer exclude empty or all-NA columns when determining the result dtypes. To retain the old behavior, exclude the relevant entries before the concat operation.\n",
      "  df.loc[len(df)] = ['BRL', 'THB', None, None]\n",
      "C:\\Users\\LeaoN\\AppData\\Local\\Temp\\ipykernel_724\\999989474.py:16: FutureWarning: The behavior of DataFrame concatenation with empty or all-NA entries is deprecated. In a future version, this will no longer exclude empty or all-NA columns when determining the result dtypes. To retain the old behavior, exclude the relevant entries before the concat operation.\n",
      "  df.loc[len(df)] = ['BRL', 'MYR', None, None]\n"
     ]
    }
   ],
   "source": [
    "# Suponha que 'df' é o seu DataFrame existente\n",
    "\n",
    "# Inserir uma nova linha para a moeda DKK\n",
    "df.loc[len(df)] = ['BRL', 'DKK', None, None]\n",
    "\n",
    "# Inserir uma nova linha para a moeda PLN\n",
    "df.loc[len(df)] = ['BRL', 'PLN', None, None]\n",
    "\n",
    "# Inserir uma nova linha para a moeda TWD\n",
    "df.loc[len(df)] = ['BRL', 'TWD', None, None]\n",
    "\n",
    "# Inserir uma nova linha para a moeda THB\n",
    "df.loc[len(df)] = ['BRL', 'THB', None, None]\n",
    "\n",
    "# Inserir uma nova linha para a moeda MYR\n",
    "df.loc[len(df)] = ['BRL', 'MYR', None, None]\n",
    "\n",
    "# Exibir o DataFrame atualizado\n",
    "print(df)\n"
   ]
  },
  {
   "cell_type": "code",
   "execution_count": 92,
   "metadata": {},
   "outputs": [],
   "source": [
    "df['Quantidade'] = df['Quantidade'].astype(object).astype(float)"
   ]
  },
  {
   "cell_type": "code",
   "execution_count": 93,
   "metadata": {},
   "outputs": [
    {
     "name": "stdout",
     "output_type": "stream",
     "text": [
      "   Moeda Origem Moeda Destino  Quantidade  Taxa de Câmbio\n",
      "0           BRL           USD         1.0        0.200791\n",
      "1           BRL           EUR         1.0        0.185622\n",
      "2           BRL           JPY         1.0       30.332000\n",
      "3           BRL           GBP         1.0        0.158896\n",
      "4           BRL           AUD         1.0        0.307500\n",
      "5           BRL           CAD         1.0        0.272799\n",
      "6           BRL           CHF         1.0        0.181917\n",
      "7           BRL           CNY         1.0        1.427570\n",
      "8           BRL           SEK         1.0        2.127356\n",
      "9           BRL           NZD         1.0        0.334215\n",
      "10          BRL           MXN         1.0        3.335100\n",
      "11          BRL           NZD         1.0        0.334215\n",
      "12          BRL           SGD         1.0        0.270469\n",
      "13          BRL           HKD         1.0        1.570812\n",
      "14          BRL           NOK         1.0        2.159526\n",
      "15          BRL           KRW         1.0      270.780854\n",
      "16          BRL           TRY         1.0        6.473873\n",
      "17          BRL           INR         1.0       16.733639\n",
      "18          BRL           RUB         1.0       18.569663\n",
      "19          BRL           ZAR         1.0        3.790352\n",
      "20          BRL           DKK         1.0             NaN\n",
      "21          BRL           PLN         1.0             NaN\n",
      "22          BRL           TWD         1.0             NaN\n",
      "23          BRL           THB         1.0             NaN\n",
      "24          BRL           MYR         1.0             NaN\n"
     ]
    }
   ],
   "source": [
    "# Calcular a média da coluna 'Quantidade', excluindo os valores nulos\n",
    "media_quantidade = df['Quantidade'].mean()\n",
    "\n",
    "# Preencher os valores nulos na coluna 'Quantidade' com a média calculada\n",
    "df['Quantidade'].fillna(media_quantidade, inplace=True)\n",
    "\n",
    "# Exibir o DataFrame atualizado\n",
    "print(df)\n"
   ]
  },
  {
   "cell_type": "markdown",
   "metadata": {},
   "source": [
    "Agora que a coluna foi preenchida, temos que fazer a mesma coisa com a taxa de cambio. Mas não daria para usar a média, já que não se pode dizer que temos um padrão.Tambem não usaria o desvio padrão pela existencia dos outliers. Para taxas de câmbio, que podem flutuar frequentemente, a interpolação muitas vezes é a escolha preferida, pois ela pode refletir melhor as tendências de curto prazo e as variações diárias"
   ]
  },
  {
   "cell_type": "code",
   "execution_count": 94,
   "metadata": {},
   "outputs": [
    {
     "name": "stdout",
     "output_type": "stream",
     "text": [
      "   Moeda Origem Moeda Destino  Quantidade  Taxa de Câmbio\n",
      "0           BRL           USD         1.0        0.200791\n",
      "1           BRL           EUR         1.0        0.185622\n",
      "2           BRL           JPY         1.0       30.332000\n",
      "3           BRL           GBP         1.0        0.158896\n",
      "4           BRL           AUD         1.0        0.307500\n",
      "5           BRL           CAD         1.0        0.272799\n",
      "6           BRL           CHF         1.0        0.181917\n",
      "7           BRL           CNY         1.0        1.427570\n",
      "8           BRL           SEK         1.0        2.127356\n",
      "9           BRL           NZD         1.0        0.334215\n",
      "10          BRL           MXN         1.0        3.335100\n",
      "11          BRL           NZD         1.0        0.334215\n",
      "12          BRL           SGD         1.0        0.270469\n",
      "13          BRL           HKD         1.0        1.570812\n",
      "14          BRL           NOK         1.0        2.159526\n",
      "15          BRL           KRW         1.0      270.780854\n",
      "16          BRL           TRY         1.0        6.473873\n",
      "17          BRL           INR         1.0       16.733639\n",
      "18          BRL           RUB         1.0       18.569663\n",
      "19          BRL           ZAR         1.0        3.790352\n",
      "20          BRL           DKK         1.0        3.790352\n",
      "21          BRL           PLN         1.0        3.790352\n",
      "22          BRL           TWD         1.0        3.790352\n",
      "23          BRL           THB         1.0        3.790352\n",
      "24          BRL           MYR         1.0        3.790352\n"
     ]
    }
   ],
   "source": [
    "# Realizar a interpolação linear na coluna 'Taxa de Câmbio'\n",
    "df['Taxa de Câmbio'] = df['Taxa de Câmbio'].interpolate(method='linear', limit_direction='forward', axis=0)\n",
    "\n",
    "# Exibir o DataFrame atualizado\n",
    "print(df)"
   ]
  },
  {
   "cell_type": "markdown",
   "metadata": {},
   "source": [
    "### Predição de valores"
   ]
  },
  {
   "cell_type": "markdown",
   "metadata": {},
   "source": [
    "Uma necessidade até que comum para aqueles que trabalham com taxas de cambio e investimento é tentar se adiantar aos valores do proximo dia. Por isso, a partir de agora, tentarei desenvolver uma predição de valores"
   ]
  },
  {
   "cell_type": "markdown",
   "metadata": {},
   "source": [
    "primeiro passo é criar uma coluna de data"
   ]
  },
  {
   "cell_type": "code",
   "execution_count": 95,
   "metadata": {},
   "outputs": [
    {
     "name": "stdout",
     "output_type": "stream",
     "text": [
      "   Moeda Origem Moeda Destino  Quantidade  Taxa de Câmbio       Data\n",
      "0           BRL           USD         1.0        0.200791 2024-03-27\n",
      "1           BRL           EUR         1.0        0.185622 2024-03-27\n",
      "2           BRL           JPY         1.0       30.332000 2024-03-27\n",
      "3           BRL           GBP         1.0        0.158896 2024-03-27\n",
      "4           BRL           AUD         1.0        0.307500 2024-03-27\n",
      "5           BRL           CAD         1.0        0.272799 2024-03-27\n",
      "6           BRL           CHF         1.0        0.181917 2024-03-27\n",
      "7           BRL           CNY         1.0        1.427570 2024-03-27\n",
      "8           BRL           SEK         1.0        2.127356 2024-03-27\n",
      "9           BRL           NZD         1.0        0.334215 2024-03-27\n",
      "10          BRL           MXN         1.0        3.335100 2024-03-27\n",
      "11          BRL           NZD         1.0        0.334215 2024-03-27\n",
      "12          BRL           SGD         1.0        0.270469 2024-03-27\n",
      "13          BRL           HKD         1.0        1.570812 2024-03-27\n",
      "14          BRL           NOK         1.0        2.159526 2024-03-27\n",
      "15          BRL           KRW         1.0      270.780854 2024-03-27\n",
      "16          BRL           TRY         1.0        6.473873 2024-03-27\n",
      "17          BRL           INR         1.0       16.733639 2024-03-27\n",
      "18          BRL           RUB         1.0       18.569663 2024-03-27\n",
      "19          BRL           ZAR         1.0        3.790352 2024-03-27\n",
      "20          BRL           DKK         1.0        3.790352 2024-03-27\n",
      "21          BRL           PLN         1.0        3.790352 2024-03-27\n",
      "22          BRL           TWD         1.0        3.790352 2024-03-27\n",
      "23          BRL           THB         1.0        3.790352 2024-03-27\n",
      "24          BRL           MYR         1.0        3.790352 2024-03-27\n"
     ]
    }
   ],
   "source": [
    "# Criar uma coluna 'Data' com a data atual\n",
    "df['Data'] = datetime.today().strftime('%Y-%m-%d')\n",
    "\n",
    "# Converter a coluna 'Data' para o tipo datetime\n",
    "df['Data'] = pd.to_datetime(df['Data'])\n",
    "\n",
    "# Exibir o DataFrame atualizado\n",
    "print(df)\n"
   ]
  },
  {
   "cell_type": "markdown",
   "metadata": {},
   "source": [
    "agora com a coluna criada de base, vamos a criação de dias variados e taxas de cambio variadas, já que o objetivo vai ser tentar achar a taxa do proximo dia"
   ]
  },
  {
   "cell_type": "code",
   "execution_count": 96,
   "metadata": {},
   "outputs": [
    {
     "name": "stdout",
     "output_type": "stream",
     "text": [
      "   Moeda Origem Moeda Destino  Quantidade  Taxa de Câmbio       Data\n",
      "37          BRL           CHF         1.0             NaN 2024-03-26\n",
      "29          BRL           JPY         1.0             NaN 2024-03-26\n",
      "31          BRL           GBP         1.0             NaN 2024-03-26\n",
      "33          BRL           AUD         1.0             NaN 2024-03-26\n",
      "35          BRL           CAD         1.0             NaN 2024-03-26\n",
      "..          ...           ...         ...             ...        ...\n",
      "32          BRL           GBP         1.0             NaN 2024-03-28\n",
      "30          BRL           JPY         1.0             NaN 2024-03-28\n",
      "28          BRL           EUR         1.0             NaN 2024-03-28\n",
      "58          BRL           TRY         1.0             NaN 2024-03-28\n",
      "74          BRL           MYR         1.0             NaN 2024-03-28\n",
      "\n",
      "[75 rows x 5 columns]\n"
     ]
    },
    {
     "name": "stderr",
     "output_type": "stream",
     "text": [
      "C:\\Users\\LeaoN\\AppData\\Local\\Temp\\ipykernel_724\\2655224336.py:21: FutureWarning: The behavior of DataFrame concatenation with empty or all-NA entries is deprecated. In a future version, this will no longer exclude empty or all-NA columns when determining the result dtypes. To retain the old behavior, exclude the relevant entries before the concat operation.\n",
      "  df_final = pd.concat([df, df_novas_linhas], ignore_index=True).sort_values(by='Data')\n"
     ]
    }
   ],
   "source": [
    "# Crie um novo DataFrame para armazenar as linhas duplicadas\n",
    "linhas_novas = []\n",
    "\n",
    "for _, row in df.iterrows():\n",
    "    # Para um dia a menos (-1 dia)\n",
    "    row_menos_um_dia = row.copy()\n",
    "    row_menos_um_dia['Data'] = row['Data'] - timedelta(days=1)\n",
    "    row_menos_um_dia['Taxa de Câmbio'] = pd.NA  # Deixar a coluna 'Taxa de Câmbio' como NA (missing value)\n",
    "    linhas_novas.append(row_menos_um_dia)\n",
    "    \n",
    "    # Para um dia a mais (+1 dia)\n",
    "    row_mais_um_dia = row.copy()\n",
    "    row_mais_um_dia['Data'] = row['Data'] + timedelta(days=1)\n",
    "    row_mais_um_dia['Taxa de Câmbio'] = pd.NA  # Deixar a coluna 'Taxa de Câmbio' como NA (missing value)\n",
    "    linhas_novas.append(row_mais_um_dia)\n",
    "\n",
    "# Converta a lista de linhas novas em um DataFrame\n",
    "df_novas_linhas = pd.DataFrame(linhas_novas)\n",
    "\n",
    "# Concatene o DataFrame original com o novo DataFrame de linhas duplicadas\n",
    "df_final = pd.concat([df, df_novas_linhas], ignore_index=True).sort_values(by='Data')\n",
    "\n",
    "# Exibir o DataFrame final\n",
    "print(df_final)\n"
   ]
  },
  {
   "cell_type": "markdown",
   "metadata": {},
   "source": [
    "Vamos certificar da existencia de valores nulos e unicos"
   ]
  },
  {
   "cell_type": "code",
   "execution_count": 97,
   "metadata": {},
   "outputs": [
    {
     "data": {
      "text/plain": [
       "array([           nan, 2.00791100e-01, 6.47387300e+00, 3.34214778e-01,\n",
       "       3.33510000e+00, 1.81917000e-01, 3.79035200e+00, 2.70469200e-01,\n",
       "       1.57081200e+00, 2.72798600e-01, 2.15952635e+00, 2.70780854e+02,\n",
       "       3.07499522e-01, 1.42757000e+00, 2.12735560e+00, 1.58896037e-01,\n",
       "       1.85696629e+01, 3.03320000e+01, 1.67336391e+01, 1.85622431e-01])"
      ]
     },
     "execution_count": 97,
     "metadata": {},
     "output_type": "execute_result"
    }
   ],
   "source": [
    "df_final['Taxa de Câmbio'].unique()"
   ]
  },
  {
   "cell_type": "code",
   "execution_count": 98,
   "metadata": {},
   "outputs": [],
   "source": [
    "df_final = df_final.sort_values(by='Moeda Destino')"
   ]
  },
  {
   "cell_type": "code",
   "execution_count": 99,
   "metadata": {},
   "outputs": [
    {
     "data": {
      "text/html": [
       "<div>\n",
       "<style scoped>\n",
       "    .dataframe tbody tr th:only-of-type {\n",
       "        vertical-align: middle;\n",
       "    }\n",
       "\n",
       "    .dataframe tbody tr th {\n",
       "        vertical-align: top;\n",
       "    }\n",
       "\n",
       "    .dataframe thead th {\n",
       "        text-align: right;\n",
       "    }\n",
       "</style>\n",
       "<table border=\"1\" class=\"dataframe\">\n",
       "  <thead>\n",
       "    <tr style=\"text-align: right;\">\n",
       "      <th></th>\n",
       "      <th>Moeda Origem</th>\n",
       "      <th>Moeda Destino</th>\n",
       "      <th>Quantidade</th>\n",
       "      <th>Taxa de Câmbio</th>\n",
       "      <th>Data</th>\n",
       "    </tr>\n",
       "  </thead>\n",
       "  <tbody>\n",
       "    <tr>\n",
       "      <th>4</th>\n",
       "      <td>BRL</td>\n",
       "      <td>AUD</td>\n",
       "      <td>1.0</td>\n",
       "      <td>0.307500</td>\n",
       "      <td>2024-03-27</td>\n",
       "    </tr>\n",
       "    <tr>\n",
       "      <th>34</th>\n",
       "      <td>BRL</td>\n",
       "      <td>AUD</td>\n",
       "      <td>1.0</td>\n",
       "      <td>NaN</td>\n",
       "      <td>2024-03-28</td>\n",
       "    </tr>\n",
       "    <tr>\n",
       "      <th>33</th>\n",
       "      <td>BRL</td>\n",
       "      <td>AUD</td>\n",
       "      <td>1.0</td>\n",
       "      <td>NaN</td>\n",
       "      <td>2024-03-26</td>\n",
       "    </tr>\n",
       "    <tr>\n",
       "      <th>36</th>\n",
       "      <td>BRL</td>\n",
       "      <td>CAD</td>\n",
       "      <td>1.0</td>\n",
       "      <td>NaN</td>\n",
       "      <td>2024-03-28</td>\n",
       "    </tr>\n",
       "    <tr>\n",
       "      <th>35</th>\n",
       "      <td>BRL</td>\n",
       "      <td>CAD</td>\n",
       "      <td>1.0</td>\n",
       "      <td>NaN</td>\n",
       "      <td>2024-03-26</td>\n",
       "    </tr>\n",
       "    <tr>\n",
       "      <th>5</th>\n",
       "      <td>BRL</td>\n",
       "      <td>CAD</td>\n",
       "      <td>1.0</td>\n",
       "      <td>0.272799</td>\n",
       "      <td>2024-03-27</td>\n",
       "    </tr>\n",
       "    <tr>\n",
       "      <th>38</th>\n",
       "      <td>BRL</td>\n",
       "      <td>CHF</td>\n",
       "      <td>1.0</td>\n",
       "      <td>NaN</td>\n",
       "      <td>2024-03-28</td>\n",
       "    </tr>\n",
       "    <tr>\n",
       "      <th>6</th>\n",
       "      <td>BRL</td>\n",
       "      <td>CHF</td>\n",
       "      <td>1.0</td>\n",
       "      <td>0.181917</td>\n",
       "      <td>2024-03-27</td>\n",
       "    </tr>\n",
       "    <tr>\n",
       "      <th>37</th>\n",
       "      <td>BRL</td>\n",
       "      <td>CHF</td>\n",
       "      <td>1.0</td>\n",
       "      <td>NaN</td>\n",
       "      <td>2024-03-26</td>\n",
       "    </tr>\n",
       "    <tr>\n",
       "      <th>39</th>\n",
       "      <td>BRL</td>\n",
       "      <td>CNY</td>\n",
       "      <td>1.0</td>\n",
       "      <td>NaN</td>\n",
       "      <td>2024-03-26</td>\n",
       "    </tr>\n",
       "  </tbody>\n",
       "</table>\n",
       "</div>"
      ],
      "text/plain": [
       "   Moeda Origem Moeda Destino  Quantidade  Taxa de Câmbio       Data\n",
       "4           BRL           AUD         1.0        0.307500 2024-03-27\n",
       "34          BRL           AUD         1.0             NaN 2024-03-28\n",
       "33          BRL           AUD         1.0             NaN 2024-03-26\n",
       "36          BRL           CAD         1.0             NaN 2024-03-28\n",
       "35          BRL           CAD         1.0             NaN 2024-03-26\n",
       "5           BRL           CAD         1.0        0.272799 2024-03-27\n",
       "38          BRL           CHF         1.0             NaN 2024-03-28\n",
       "6           BRL           CHF         1.0        0.181917 2024-03-27\n",
       "37          BRL           CHF         1.0             NaN 2024-03-26\n",
       "39          BRL           CNY         1.0             NaN 2024-03-26"
      ]
     },
     "execution_count": 99,
     "metadata": {},
     "output_type": "execute_result"
    }
   ],
   "source": [
    "df_final.head(10)"
   ]
  },
  {
   "cell_type": "code",
   "execution_count": 100,
   "metadata": {},
   "outputs": [
    {
     "name": "stdout",
     "output_type": "stream",
     "text": [
      "   Moeda Origem Moeda Destino  Quantidade  Taxa de Câmbio       Data\n",
      "4           BRL           AUD         1.0        0.307500 2024-03-27\n",
      "34          BRL           AUD         1.0        0.320595 2024-03-28\n",
      "33          BRL           AUD         1.0        0.299646 2024-03-26\n"
     ]
    }
   ],
   "source": [
    "# Encontrar a taxa de câmbio existente para AUD\n",
    "taxa_existente = df_final.loc[(df_final['Moeda Destino'] == 'AUD') & (df_final['Taxa de Câmbio'].notna()), 'Taxa de Câmbio'].iloc[0]\n",
    "\n",
    "# Calcular um valor entre 2 a 5 pontos percentuais acima e abaixo da taxa existente\n",
    "taxa_mais = taxa_existente * (1 + np.random.uniform(0.02, 0.05))\n",
    "taxa_menos = taxa_existente * (1 - np.random.uniform(0.02, 0.05))\n",
    "\n",
    "# Preencher as linhas vazias com os valores calculados\n",
    "df_final.loc[(df_final['Moeda Destino'] == 'AUD') & (df_final['Taxa de Câmbio'].isna()), 'Taxa de Câmbio'] = [taxa_mais, taxa_menos]\n",
    "\n",
    "# Exibir o DataFrame atualizado\n",
    "print(df_final[df_final['Moeda Destino'] == 'AUD'])\n"
   ]
  },
  {
   "cell_type": "markdown",
   "metadata": {},
   "source": [
    "agora que o codigo funciona, vamos fazer iteração das moedas que desejo preencher"
   ]
  },
  {
   "cell_type": "code",
   "execution_count": 101,
   "metadata": {},
   "outputs": [
    {
     "data": {
      "text/plain": [
       "array(['AUD', 'CAD', 'CHF', 'CNY', 'DKK', 'EUR', 'GBP', 'HKD', 'INR',\n",
       "       'JPY', 'KRW', 'MXN', 'MYR', 'NOK', 'NZD', 'PLN', 'RUB', 'SEK',\n",
       "       'SGD', 'THB', 'TRY', 'TWD', 'USD', 'ZAR'], dtype=object)"
      ]
     },
     "execution_count": 101,
     "metadata": {},
     "output_type": "execute_result"
    }
   ],
   "source": [
    "df_final['Moeda Destino'].unique()"
   ]
  },
  {
   "cell_type": "code",
   "execution_count": 102,
   "metadata": {},
   "outputs": [
    {
     "name": "stdout",
     "output_type": "stream",
     "text": [
      "   Moeda Origem Moeda Destino  Quantidade  Taxa de Câmbio       Data\n",
      "36          BRL           CAD         1.0        0.281754 2024-03-28\n",
      "35          BRL           CAD         1.0        0.262126 2024-03-26\n",
      "5           BRL           CAD         1.0        0.272799 2024-03-27\n",
      "38          BRL           CHF         1.0        0.188880 2024-03-28\n",
      "6           BRL           CHF         1.0        0.181917 2024-03-27\n",
      "..          ...           ...         ...             ...        ...\n",
      "69          BRL           TWD         1.0        3.714974 2024-03-26\n",
      "22          BRL           TWD         1.0        3.790352 2024-03-27\n",
      "25          BRL           USD         1.0        0.203390 2024-03-26\n",
      "26          BRL           USD         1.0        0.203600 2024-03-28\n",
      "0           BRL           USD         1.0        0.200791 2024-03-27\n",
      "\n",
      "[69 rows x 5 columns]\n"
     ]
    }
   ],
   "source": [
    "\n",
    "# Lista das moedas desejadas\n",
    "moedas_desejadas = ['CAD', 'CHF', 'CNY', 'DKK', 'EUR', 'GBP', 'HKD', 'INR',\n",
    "       'JPY', 'KRW', 'MXN', 'MYR', 'NOK', 'NZD', 'PLN', 'RUB', 'SEK',\n",
    "       'SGD', 'THB', 'TRY', 'TWD', 'USD'] \n",
    "\n",
    "for moeda in moedas_desejadas:\n",
    "    # Encontrar as linhas para a moeda atual onde a 'Taxa de Câmbio' está vazia\n",
    "    linhas_vazias = df_final[(df_final['Moeda Destino'] == moeda) & (df_final['Taxa de Câmbio'].isna())].index\n",
    "    \n",
    "    # Se houver linhas vazias, preencha-as\n",
    "    if len(linhas_vazias) > 0:\n",
    "        # Encontrar a taxa de câmbio existente para a moeda atual\n",
    "        taxa_existente = df_final.loc[(df_final['Moeda Destino'] == moeda) & (df_final['Taxa de Câmbio'].notna()), 'Taxa de Câmbio'].iloc[0]\n",
    "\n",
    "        # Gerar valores aleatórios entre 2 a 5 pontos percentuais acima e abaixo da taxa existente\n",
    "        taxas_ajustadas = taxa_existente * (1 + np.random.uniform(-0.05, 0.05, len(linhas_vazias)))\n",
    "\n",
    "        # Preencher as linhas vazias com os valores calculados para a moeda atual\n",
    "        df_final.loc[linhas_vazias, 'Taxa de Câmbio'] = taxas_ajustadas\n",
    "\n",
    "# Exibir o DataFrame atualizado para as moedas desejadas\n",
    "print(df_final[df_final['Moeda Destino'].isin(moedas_desejadas)])\n"
   ]
  },
  {
   "cell_type": "code",
   "execution_count": 103,
   "metadata": {},
   "outputs": [
    {
     "data": {
      "text/plain": [
       "Moeda Origem      0\n",
       "Moeda Destino     0\n",
       "Quantidade        0\n",
       "Taxa de Câmbio    2\n",
       "Data              0\n",
       "dtype: int64"
      ]
     },
     "execution_count": 103,
     "metadata": {},
     "output_type": "execute_result"
    }
   ],
   "source": [
    "df_final.isna().sum()"
   ]
  },
  {
   "cell_type": "code",
   "execution_count": 104,
   "metadata": {},
   "outputs": [],
   "source": [
    "# Identificar as datas que estão faltando para ZAR\n",
    "datas_existentes = df_final[df_final['Moeda Destino'] == 'ZAR']['Data']\n",
    "data_min = datas_existentes.min()\n",
    "data_max = datas_existentes.max()\n",
    "todas_datas = pd.date_range(start=data_min, end=data_max, freq='D')\n",
    "datas_faltando = todas_datas.difference(datas_existentes)\n",
    "\n",
    "# Criar um DataFrame com as datas faltando para ZAR\n",
    "dados_a_prever = pd.DataFrame({'Moeda Origem': 'BRL', \n",
    "                               'Moeda Destino': 'ZAR', \n",
    "                               'Quantidade': [None] * len(datas_faltando), \n",
    "                               'Taxa de Câmbio': [None] * len(datas_faltando), \n",
    "                               'Data': datas_faltando})\n",
    "\n"
   ]
  },
  {
   "cell_type": "code",
   "execution_count": 105,
   "metadata": {},
   "outputs": [],
   "source": [
    "from sklearn.preprocessing import LabelEncoder\n",
    "le = LabelEncoder()\n",
    "df_final['Moeda Origem'] = le.fit_transform(df_final['Moeda Origem'])"
   ]
  },
  {
   "cell_type": "code",
   "execution_count": 107,
   "metadata": {},
   "outputs": [
    {
     "ename": "KeyError",
     "evalue": "'Moeda Destino'",
     "output_type": "error",
     "traceback": [
      "\u001b[1;31m---------------------------------------------------------------------------\u001b[0m",
      "\u001b[1;31mKeyError\u001b[0m                                  Traceback (most recent call last)",
      "File \u001b[1;32m~\\AppData\\Local\\Packages\\PythonSoftwareFoundation.Python.3.11_qbz5n2kfra8p0\\LocalCache\\local-packages\\Python311\\site-packages\\pandas\\core\\indexes\\base.py:3790\u001b[0m, in \u001b[0;36mIndex.get_loc\u001b[1;34m(self, key)\u001b[0m\n\u001b[0;32m   3789\u001b[0m \u001b[38;5;28;01mtry\u001b[39;00m:\n\u001b[1;32m-> 3790\u001b[0m     \u001b[38;5;28;01mreturn\u001b[39;00m \u001b[38;5;28;43mself\u001b[39;49m\u001b[38;5;241;43m.\u001b[39;49m\u001b[43m_engine\u001b[49m\u001b[38;5;241;43m.\u001b[39;49m\u001b[43mget_loc\u001b[49m\u001b[43m(\u001b[49m\u001b[43mcasted_key\u001b[49m\u001b[43m)\u001b[49m\n\u001b[0;32m   3791\u001b[0m \u001b[38;5;28;01mexcept\u001b[39;00m \u001b[38;5;167;01mKeyError\u001b[39;00m \u001b[38;5;28;01mas\u001b[39;00m err:\n",
      "File \u001b[1;32mindex.pyx:152\u001b[0m, in \u001b[0;36mpandas._libs.index.IndexEngine.get_loc\u001b[1;34m()\u001b[0m\n",
      "File \u001b[1;32mindex.pyx:181\u001b[0m, in \u001b[0;36mpandas._libs.index.IndexEngine.get_loc\u001b[1;34m()\u001b[0m\n",
      "File \u001b[1;32mpandas\\_libs\\hashtable_class_helper.pxi:7080\u001b[0m, in \u001b[0;36mpandas._libs.hashtable.PyObjectHashTable.get_item\u001b[1;34m()\u001b[0m\n",
      "File \u001b[1;32mpandas\\_libs\\hashtable_class_helper.pxi:7088\u001b[0m, in \u001b[0;36mpandas._libs.hashtable.PyObjectHashTable.get_item\u001b[1;34m()\u001b[0m\n",
      "\u001b[1;31mKeyError\u001b[0m: 'Moeda Destino'",
      "\nThe above exception was the direct cause of the following exception:\n",
      "\u001b[1;31mKeyError\u001b[0m                                  Traceback (most recent call last)",
      "Cell \u001b[1;32mIn[107], line 16\u001b[0m\n\u001b[0;32m     10\u001b[0m \u001b[38;5;66;03m# Mapear 'Moeda Destino' para valores numéricos\u001b[39;00m\n\u001b[0;32m     11\u001b[0m mapeamento_moedas \u001b[38;5;241m=\u001b[39m {\n\u001b[0;32m     12\u001b[0m     \u001b[38;5;124m'\u001b[39m\u001b[38;5;124mAUD\u001b[39m\u001b[38;5;124m'\u001b[39m: \u001b[38;5;241m0\u001b[39m, \u001b[38;5;124m'\u001b[39m\u001b[38;5;124mCAD\u001b[39m\u001b[38;5;124m'\u001b[39m: \u001b[38;5;241m1\u001b[39m, \u001b[38;5;124m'\u001b[39m\u001b[38;5;124mCHF\u001b[39m\u001b[38;5;124m'\u001b[39m: \u001b[38;5;241m2\u001b[39m, \u001b[38;5;124m'\u001b[39m\u001b[38;5;124mCNY\u001b[39m\u001b[38;5;124m'\u001b[39m: \u001b[38;5;241m3\u001b[39m, \u001b[38;5;124m'\u001b[39m\u001b[38;5;124mDKK\u001b[39m\u001b[38;5;124m'\u001b[39m: \u001b[38;5;241m4\u001b[39m, \u001b[38;5;124m'\u001b[39m\u001b[38;5;124mEUR\u001b[39m\u001b[38;5;124m'\u001b[39m: \u001b[38;5;241m5\u001b[39m, \u001b[38;5;124m'\u001b[39m\u001b[38;5;124mGBP\u001b[39m\u001b[38;5;124m'\u001b[39m: \u001b[38;5;241m6\u001b[39m, \u001b[38;5;124m'\u001b[39m\u001b[38;5;124mHKD\u001b[39m\u001b[38;5;124m'\u001b[39m: \u001b[38;5;241m7\u001b[39m, \u001b[38;5;124m'\u001b[39m\u001b[38;5;124mINR\u001b[39m\u001b[38;5;124m'\u001b[39m: \u001b[38;5;241m8\u001b[39m,\n\u001b[0;32m     13\u001b[0m     \u001b[38;5;124m'\u001b[39m\u001b[38;5;124mJPY\u001b[39m\u001b[38;5;124m'\u001b[39m: \u001b[38;5;241m9\u001b[39m, \u001b[38;5;124m'\u001b[39m\u001b[38;5;124mKRW\u001b[39m\u001b[38;5;124m'\u001b[39m: \u001b[38;5;241m10\u001b[39m, \u001b[38;5;124m'\u001b[39m\u001b[38;5;124mMXN\u001b[39m\u001b[38;5;124m'\u001b[39m: \u001b[38;5;241m11\u001b[39m, \u001b[38;5;124m'\u001b[39m\u001b[38;5;124mMYR\u001b[39m\u001b[38;5;124m'\u001b[39m: \u001b[38;5;241m12\u001b[39m, \u001b[38;5;124m'\u001b[39m\u001b[38;5;124mNOK\u001b[39m\u001b[38;5;124m'\u001b[39m: \u001b[38;5;241m13\u001b[39m, \u001b[38;5;124m'\u001b[39m\u001b[38;5;124mNZD\u001b[39m\u001b[38;5;124m'\u001b[39m: \u001b[38;5;241m14\u001b[39m, \u001b[38;5;124m'\u001b[39m\u001b[38;5;124mPLN\u001b[39m\u001b[38;5;124m'\u001b[39m: \u001b[38;5;241m15\u001b[39m, \u001b[38;5;124m'\u001b[39m\u001b[38;5;124mRUB\u001b[39m\u001b[38;5;124m'\u001b[39m: \u001b[38;5;241m16\u001b[39m, \u001b[38;5;124m'\u001b[39m\u001b[38;5;124mSEK\u001b[39m\u001b[38;5;124m'\u001b[39m: \u001b[38;5;241m17\u001b[39m,\n\u001b[0;32m     14\u001b[0m     \u001b[38;5;124m'\u001b[39m\u001b[38;5;124mSGD\u001b[39m\u001b[38;5;124m'\u001b[39m: \u001b[38;5;241m18\u001b[39m, \u001b[38;5;124m'\u001b[39m\u001b[38;5;124mTHB\u001b[39m\u001b[38;5;124m'\u001b[39m: \u001b[38;5;241m19\u001b[39m, \u001b[38;5;124m'\u001b[39m\u001b[38;5;124mTRY\u001b[39m\u001b[38;5;124m'\u001b[39m: \u001b[38;5;241m20\u001b[39m, \u001b[38;5;124m'\u001b[39m\u001b[38;5;124mTWD\u001b[39m\u001b[38;5;124m'\u001b[39m: \u001b[38;5;241m21\u001b[39m, \u001b[38;5;124m'\u001b[39m\u001b[38;5;124mUSD\u001b[39m\u001b[38;5;124m'\u001b[39m: \u001b[38;5;241m22\u001b[39m, \u001b[38;5;124m'\u001b[39m\u001b[38;5;124mZAR\u001b[39m\u001b[38;5;124m'\u001b[39m: \u001b[38;5;241m23\u001b[39m\n\u001b[0;32m     15\u001b[0m }\n\u001b[1;32m---> 16\u001b[0m df_final[\u001b[38;5;124m'\u001b[39m\u001b[38;5;124mMoeda Destino Num\u001b[39m\u001b[38;5;124m'\u001b[39m] \u001b[38;5;241m=\u001b[39m \u001b[43mdf_final\u001b[49m\u001b[43m[\u001b[49m\u001b[38;5;124;43m'\u001b[39;49m\u001b[38;5;124;43mMoeda Destino\u001b[39;49m\u001b[38;5;124;43m'\u001b[39;49m\u001b[43m]\u001b[49m\u001b[38;5;241m.\u001b[39mmap(mapeamento_moedas)\n\u001b[0;32m     18\u001b[0m \u001b[38;5;66;03m# Remover a coluna original 'Moeda Destino'\u001b[39;00m\n\u001b[0;32m     19\u001b[0m df_final \u001b[38;5;241m=\u001b[39m df_final\u001b[38;5;241m.\u001b[39mdrop(\u001b[38;5;124m'\u001b[39m\u001b[38;5;124mMoeda Destino\u001b[39m\u001b[38;5;124m'\u001b[39m, axis\u001b[38;5;241m=\u001b[39m\u001b[38;5;241m1\u001b[39m)\n",
      "File \u001b[1;32m~\\AppData\\Local\\Packages\\PythonSoftwareFoundation.Python.3.11_qbz5n2kfra8p0\\LocalCache\\local-packages\\Python311\\site-packages\\pandas\\core\\frame.py:3896\u001b[0m, in \u001b[0;36mDataFrame.__getitem__\u001b[1;34m(self, key)\u001b[0m\n\u001b[0;32m   3894\u001b[0m \u001b[38;5;28;01mif\u001b[39;00m \u001b[38;5;28mself\u001b[39m\u001b[38;5;241m.\u001b[39mcolumns\u001b[38;5;241m.\u001b[39mnlevels \u001b[38;5;241m>\u001b[39m \u001b[38;5;241m1\u001b[39m:\n\u001b[0;32m   3895\u001b[0m     \u001b[38;5;28;01mreturn\u001b[39;00m \u001b[38;5;28mself\u001b[39m\u001b[38;5;241m.\u001b[39m_getitem_multilevel(key)\n\u001b[1;32m-> 3896\u001b[0m indexer \u001b[38;5;241m=\u001b[39m \u001b[38;5;28;43mself\u001b[39;49m\u001b[38;5;241;43m.\u001b[39;49m\u001b[43mcolumns\u001b[49m\u001b[38;5;241;43m.\u001b[39;49m\u001b[43mget_loc\u001b[49m\u001b[43m(\u001b[49m\u001b[43mkey\u001b[49m\u001b[43m)\u001b[49m\n\u001b[0;32m   3897\u001b[0m \u001b[38;5;28;01mif\u001b[39;00m is_integer(indexer):\n\u001b[0;32m   3898\u001b[0m     indexer \u001b[38;5;241m=\u001b[39m [indexer]\n",
      "File \u001b[1;32m~\\AppData\\Local\\Packages\\PythonSoftwareFoundation.Python.3.11_qbz5n2kfra8p0\\LocalCache\\local-packages\\Python311\\site-packages\\pandas\\core\\indexes\\base.py:3797\u001b[0m, in \u001b[0;36mIndex.get_loc\u001b[1;34m(self, key)\u001b[0m\n\u001b[0;32m   3792\u001b[0m     \u001b[38;5;28;01mif\u001b[39;00m \u001b[38;5;28misinstance\u001b[39m(casted_key, \u001b[38;5;28mslice\u001b[39m) \u001b[38;5;129;01mor\u001b[39;00m (\n\u001b[0;32m   3793\u001b[0m         \u001b[38;5;28misinstance\u001b[39m(casted_key, abc\u001b[38;5;241m.\u001b[39mIterable)\n\u001b[0;32m   3794\u001b[0m         \u001b[38;5;129;01mand\u001b[39;00m \u001b[38;5;28many\u001b[39m(\u001b[38;5;28misinstance\u001b[39m(x, \u001b[38;5;28mslice\u001b[39m) \u001b[38;5;28;01mfor\u001b[39;00m x \u001b[38;5;129;01min\u001b[39;00m casted_key)\n\u001b[0;32m   3795\u001b[0m     ):\n\u001b[0;32m   3796\u001b[0m         \u001b[38;5;28;01mraise\u001b[39;00m InvalidIndexError(key)\n\u001b[1;32m-> 3797\u001b[0m     \u001b[38;5;28;01mraise\u001b[39;00m \u001b[38;5;167;01mKeyError\u001b[39;00m(key) \u001b[38;5;28;01mfrom\u001b[39;00m \u001b[38;5;21;01merr\u001b[39;00m\n\u001b[0;32m   3798\u001b[0m \u001b[38;5;28;01mexcept\u001b[39;00m \u001b[38;5;167;01mTypeError\u001b[39;00m:\n\u001b[0;32m   3799\u001b[0m     \u001b[38;5;66;03m# If we have a listlike key, _check_indexing_error will raise\u001b[39;00m\n\u001b[0;32m   3800\u001b[0m     \u001b[38;5;66;03m#  InvalidIndexError. Otherwise we fall through and re-raise\u001b[39;00m\n\u001b[0;32m   3801\u001b[0m     \u001b[38;5;66;03m#  the TypeError.\u001b[39;00m\n\u001b[0;32m   3802\u001b[0m     \u001b[38;5;28mself\u001b[39m\u001b[38;5;241m.\u001b[39m_check_indexing_error(key)\n",
      "\u001b[1;31mKeyError\u001b[0m: 'Moeda Destino'"
     ]
    }
   ],
   "source": [
    "import pandas as pd\n",
    "import numpy as np\n",
    "from sklearn.model_selection import train_test_split\n",
    "from sklearn.linear_model import LinearRegression\n",
    "from sklearn.metrics import mean_squared_error\n",
    "\n",
    "# Suponha que 'df_final' é o seu DataFrame existente\n",
    "\n",
    "df_final['Data'] = pd.to_datetime(df_final['Data']).view('int64') // 10**9\n",
    "# Mapear 'Moeda Destino' para valores numéricos\n",
    "mapeamento_moedas = {\n",
    "    'AUD': 0, 'CAD': 1, 'CHF': 2, 'CNY': 3, 'DKK': 4, 'EUR': 5, 'GBP': 6, 'HKD': 7, 'INR': 8,\n",
    "    'JPY': 9, 'KRW': 10, 'MXN': 11, 'MYR': 12, 'NOK': 13, 'NZD': 14, 'PLN': 15, 'RUB': 16, 'SEK': 17,\n",
    "    'SGD': 18, 'THB': 19, 'TRY': 20, 'TWD': 21, 'USD': 22, 'ZAR': 23\n",
    "}\n",
    "df_final['Moeda Destino Num'] = df_final['Moeda Destino'].map(mapeamento_moedas)\n",
    "\n",
    "# Remover a coluna original 'Moeda Destino'\n",
    "df_final = df_final.drop('Moeda Destino', axis=1)\n",
    "\n",
    "# Preparar os dados\n",
    "X = df_final.drop('Taxa de Câmbio', axis=1)\n",
    "Y = df_final['Taxa de Câmbio']\n",
    "\n",
    "# Tratar valores ausentes nas colunas numéricas\n",
    "medias = X.select_dtypes(include=[np.number]).mean()\n",
    "X.fillna(medias, inplace=True)\n",
    "\n",
    "# Dividir os dados em conjuntos de treino e teste\n",
    "X_train, X_test, Y_train, Y_test = train_test_split(X, Y, test_size=0.2, random_state=42)\n",
    "\n",
    "# Escolher um modelo\n",
    "modelo = LinearRegression()\n",
    "\n",
    "X_train = X_train[Y_train.notnull()]\n",
    "Y_train = Y_train[Y_train.notnull()]\n",
    "\n",
    "# Treinar o modelo\n",
    "modelo.fit(X_train, Y_train)\n",
    "\n",
    "# Fazer previsões\n",
    "Y_pred = modelo.predict(X_test)\n",
    "\n",
    "# Avaliar o modelo\n",
    "mse = mean_squared_error(Y_test, Y_pred)\n",
    "print(f\"Erro Quadrático Médio: {mse}\")\n",
    "\n",
    "# Preparar os dados dos dias faltando para ZAR\n",
    "# Suponha que 'dados_a_prever' é um DataFrame com os dados dos dias que estão faltando para ZAR\n",
    "# Certifique-se de que 'dados_a_prever' contém todas as colunas necessárias, exceto 'Taxa de Câmbio'\n",
    "# e que todas as colunas foram tratadas da mesma forma que os dados de treinamento\n",
    "\n",
    "# Prever a 'Taxa de Câmbio' para a moeda ZAR nos dias que estão faltando\n",
    "previsoes_ZAR = modelo.predict(dados_a_prever)\n"
   ]
  },
  {
   "cell_type": "code",
   "execution_count": 108,
   "metadata": {},
   "outputs": [
    {
     "ename": "KeyError",
     "evalue": "\"['Moeda Destino'] not in index\"",
     "output_type": "error",
     "traceback": [
      "\u001b[1;31m---------------------------------------------------------------------------\u001b[0m",
      "\u001b[1;31mKeyError\u001b[0m                                  Traceback (most recent call last)",
      "Cell \u001b[1;32mIn[108], line 11\u001b[0m\n\u001b[0;32m      7\u001b[0m \u001b[38;5;66;03m# Suponha que 'df_final' é o seu DataFrame existente\u001b[39;00m\n\u001b[0;32m      8\u001b[0m \n\u001b[0;32m      9\u001b[0m \u001b[38;5;66;03m# Converter 'Moeda Origem' e 'Moeda Destino' para numérico usando one-hot encoding\u001b[39;00m\n\u001b[0;32m     10\u001b[0m encoder \u001b[38;5;241m=\u001b[39m OneHotEncoder(sparse\u001b[38;5;241m=\u001b[39m\u001b[38;5;28;01mFalse\u001b[39;00m)\n\u001b[1;32m---> 11\u001b[0m encoded_features \u001b[38;5;241m=\u001b[39m encoder\u001b[38;5;241m.\u001b[39mfit_transform(\u001b[43mdf_final\u001b[49m\u001b[43m[\u001b[49m\u001b[43m[\u001b[49m\u001b[38;5;124;43m'\u001b[39;49m\u001b[38;5;124;43mMoeda Origem\u001b[39;49m\u001b[38;5;124;43m'\u001b[39;49m\u001b[43m,\u001b[49m\u001b[43m \u001b[49m\u001b[38;5;124;43m'\u001b[39;49m\u001b[38;5;124;43mMoeda Destino\u001b[39;49m\u001b[38;5;124;43m'\u001b[39;49m\u001b[43m]\u001b[49m\u001b[43m]\u001b[49m)\n\u001b[0;32m     13\u001b[0m \u001b[38;5;66;03m# Criar um novo DataFrame com as características codificadas\u001b[39;00m\n\u001b[0;32m     14\u001b[0m encoded_df \u001b[38;5;241m=\u001b[39m pd\u001b[38;5;241m.\u001b[39mDataFrame(encoded_features, columns\u001b[38;5;241m=\u001b[39mencoder\u001b[38;5;241m.\u001b[39mget_feature_names_out())\n",
      "File \u001b[1;32m~\\AppData\\Local\\Packages\\PythonSoftwareFoundation.Python.3.11_qbz5n2kfra8p0\\LocalCache\\local-packages\\Python311\\site-packages\\pandas\\core\\frame.py:3902\u001b[0m, in \u001b[0;36mDataFrame.__getitem__\u001b[1;34m(self, key)\u001b[0m\n\u001b[0;32m   3900\u001b[0m     \u001b[38;5;28;01mif\u001b[39;00m is_iterator(key):\n\u001b[0;32m   3901\u001b[0m         key \u001b[38;5;241m=\u001b[39m \u001b[38;5;28mlist\u001b[39m(key)\n\u001b[1;32m-> 3902\u001b[0m     indexer \u001b[38;5;241m=\u001b[39m \u001b[38;5;28;43mself\u001b[39;49m\u001b[38;5;241;43m.\u001b[39;49m\u001b[43mcolumns\u001b[49m\u001b[38;5;241;43m.\u001b[39;49m\u001b[43m_get_indexer_strict\u001b[49m\u001b[43m(\u001b[49m\u001b[43mkey\u001b[49m\u001b[43m,\u001b[49m\u001b[43m \u001b[49m\u001b[38;5;124;43m\"\u001b[39;49m\u001b[38;5;124;43mcolumns\u001b[39;49m\u001b[38;5;124;43m\"\u001b[39;49m\u001b[43m)\u001b[49m[\u001b[38;5;241m1\u001b[39m]\n\u001b[0;32m   3904\u001b[0m \u001b[38;5;66;03m# take() does not accept boolean indexers\u001b[39;00m\n\u001b[0;32m   3905\u001b[0m \u001b[38;5;28;01mif\u001b[39;00m \u001b[38;5;28mgetattr\u001b[39m(indexer, \u001b[38;5;124m\"\u001b[39m\u001b[38;5;124mdtype\u001b[39m\u001b[38;5;124m\"\u001b[39m, \u001b[38;5;28;01mNone\u001b[39;00m) \u001b[38;5;241m==\u001b[39m \u001b[38;5;28mbool\u001b[39m:\n",
      "File \u001b[1;32m~\\AppData\\Local\\Packages\\PythonSoftwareFoundation.Python.3.11_qbz5n2kfra8p0\\LocalCache\\local-packages\\Python311\\site-packages\\pandas\\core\\indexes\\base.py:6114\u001b[0m, in \u001b[0;36mIndex._get_indexer_strict\u001b[1;34m(self, key, axis_name)\u001b[0m\n\u001b[0;32m   6111\u001b[0m \u001b[38;5;28;01melse\u001b[39;00m:\n\u001b[0;32m   6112\u001b[0m     keyarr, indexer, new_indexer \u001b[38;5;241m=\u001b[39m \u001b[38;5;28mself\u001b[39m\u001b[38;5;241m.\u001b[39m_reindex_non_unique(keyarr)\n\u001b[1;32m-> 6114\u001b[0m \u001b[38;5;28;43mself\u001b[39;49m\u001b[38;5;241;43m.\u001b[39;49m\u001b[43m_raise_if_missing\u001b[49m\u001b[43m(\u001b[49m\u001b[43mkeyarr\u001b[49m\u001b[43m,\u001b[49m\u001b[43m \u001b[49m\u001b[43mindexer\u001b[49m\u001b[43m,\u001b[49m\u001b[43m \u001b[49m\u001b[43maxis_name\u001b[49m\u001b[43m)\u001b[49m\n\u001b[0;32m   6116\u001b[0m keyarr \u001b[38;5;241m=\u001b[39m \u001b[38;5;28mself\u001b[39m\u001b[38;5;241m.\u001b[39mtake(indexer)\n\u001b[0;32m   6117\u001b[0m \u001b[38;5;28;01mif\u001b[39;00m \u001b[38;5;28misinstance\u001b[39m(key, Index):\n\u001b[0;32m   6118\u001b[0m     \u001b[38;5;66;03m# GH 42790 - Preserve name from an Index\u001b[39;00m\n",
      "File \u001b[1;32m~\\AppData\\Local\\Packages\\PythonSoftwareFoundation.Python.3.11_qbz5n2kfra8p0\\LocalCache\\local-packages\\Python311\\site-packages\\pandas\\core\\indexes\\base.py:6178\u001b[0m, in \u001b[0;36mIndex._raise_if_missing\u001b[1;34m(self, key, indexer, axis_name)\u001b[0m\n\u001b[0;32m   6175\u001b[0m     \u001b[38;5;28;01mraise\u001b[39;00m \u001b[38;5;167;01mKeyError\u001b[39;00m(\u001b[38;5;124mf\u001b[39m\u001b[38;5;124m\"\u001b[39m\u001b[38;5;124mNone of [\u001b[39m\u001b[38;5;132;01m{\u001b[39;00mkey\u001b[38;5;132;01m}\u001b[39;00m\u001b[38;5;124m] are in the [\u001b[39m\u001b[38;5;132;01m{\u001b[39;00maxis_name\u001b[38;5;132;01m}\u001b[39;00m\u001b[38;5;124m]\u001b[39m\u001b[38;5;124m\"\u001b[39m)\n\u001b[0;32m   6177\u001b[0m not_found \u001b[38;5;241m=\u001b[39m \u001b[38;5;28mlist\u001b[39m(ensure_index(key)[missing_mask\u001b[38;5;241m.\u001b[39mnonzero()[\u001b[38;5;241m0\u001b[39m]]\u001b[38;5;241m.\u001b[39munique())\n\u001b[1;32m-> 6178\u001b[0m \u001b[38;5;28;01mraise\u001b[39;00m \u001b[38;5;167;01mKeyError\u001b[39;00m(\u001b[38;5;124mf\u001b[39m\u001b[38;5;124m\"\u001b[39m\u001b[38;5;132;01m{\u001b[39;00mnot_found\u001b[38;5;132;01m}\u001b[39;00m\u001b[38;5;124m not in index\u001b[39m\u001b[38;5;124m\"\u001b[39m)\n",
      "\u001b[1;31mKeyError\u001b[0m: \"['Moeda Destino'] not in index\""
     ]
    }
   ],
   "source": [
    "import pandas as pd\n",
    "from sklearn.model_selection import train_test_split\n",
    "from sklearn.linear_model import LinearRegression\n",
    "from sklearn.metrics import mean_squared_error\n",
    "from sklearn.preprocessing import OneHotEncoder\n",
    "\n",
    "# Suponha que 'df_final' é o seu DataFrame existente\n",
    "\n",
    "# Converter 'Moeda Origem' e 'Moeda Destino' para numérico usando one-hot encoding\n",
    "encoder = OneHotEncoder(sparse=False)\n",
    "encoded_features = encoder.fit_transform(df_final[['Moeda Origem', 'Moeda Destino']])\n",
    "\n",
    "# Criar um novo DataFrame com as características codificadas\n",
    "encoded_df = pd.DataFrame(encoded_features, columns=encoder.get_feature_names_out())\n",
    "\n",
    "# Concatenar o novo DataFrame com as características codificadas ao original, excluindo as colunas categóricas\n",
    "df_final = pd.concat([df_final.drop(['Moeda Origem', 'Moeda Destino'], axis=1), encoded_df], axis=1)\n",
    "\n",
    "# Converter 'Quantidade' para float\n",
    "df_final['Quantidade'] = df_final['Quantidade'].astype(float)\n",
    "\n",
    "# Separar os dados em características (X) e alvo (Y)\n",
    "X = df_final.drop('Taxa de Câmbio', axis=1)\n",
    "Y = df_final['Taxa de Câmbio']\n",
    "\n",
    "# Dividir os dados em conjuntos de treino e teste\n",
    "X_train, X_test, Y_train, Y_test = train_test_split(X, Y, test_size=0.2, random_state=42)\n",
    "\n",
    "# Remover linhas com NaN na variável alvo do conjunto de treinamento\n",
    "X_train = X_train[Y_train.notnull()]\n",
    "Y_train = Y_train[Y_train.notnull()]\n",
    "\n",
    "# Treinar o modelo de regressão linear\n",
    "modelo = LinearRegression()\n",
    "modelo.fit(X_train, Y_train)\n",
    "\n",
    "# Fazer previsões no conjunto de teste\n",
    "Y_pred = modelo.predict(X_test)\n",
    "\n",
    "# Avaliar o modelo\n",
    "mse = mean_squared_error(Y_test, Y_pred)\n",
    "print(f\"Erro Quadrático Médio: {mse}\")\n",
    "\n",
    "# Preparar os dados para prever os valores ausentes\n",
    "dados_a_prever = X[Y.isnull()]\n",
    "\n",
    "# Prever os valores ausentes\n",
    "previsoes = modelo.predict(dados_a_prever)\n",
    "\n",
    "# Preencher os valores ausentes com as previsões\n",
    "df_final.loc[Y.isnull(), 'Taxa de Câmbio'] = previsoes\n"
   ]
  }
 ],
 "metadata": {
  "kernelspec": {
   "display_name": "Python 3",
   "language": "python",
   "name": "python3"
  },
  "language_info": {
   "codemirror_mode": {
    "name": "ipython",
    "version": 3
   },
   "file_extension": ".py",
   "mimetype": "text/x-python",
   "name": "python",
   "nbconvert_exporter": "python",
   "pygments_lexer": "ipython3",
   "version": "3.11.8"
  }
 },
 "nbformat": 4,
 "nbformat_minor": 2
}
