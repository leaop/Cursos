{
 "cells": [
  {
   "cell_type": "code",
   "execution_count": 1,
   "metadata": {},
   "outputs": [],
   "source": [
    "import pandas as pd\n",
    "import requests"
   ]
  },
  {
   "cell_type": "code",
   "execution_count": 2,
   "metadata": {},
   "outputs": [
    {
     "name": "stdout",
     "output_type": "stream",
     "text": [
      "Arquivo 'LEAO_PEREIRA.xlsx' salvo com sucesso!\n"
     ]
    }
   ],
   "source": [
    "# Chave da API obtida no RapidAPI\n",
    "headers = {\n",
    "    'x-rapidapi-host': \"currency-exchange.p.rapidapi.com\",\n",
    "    'x-rapidapi-key': \"97b52f616amsh8ff4be3f936deefp1bcff9jsne88fc0d9a374\"\n",
    "}\n",
    "\n",
    "url = \"https://currency-exchange.p.rapidapi.com/exchange\"\n",
    "\n",
    "# Lista de parâmetros para as conversões desejadas\n",
    "parametros = [\n",
    "    {\"from\": \"USD\", \"to\": \"EUR\", \"q\": \"1.0\"},\n",
    "    {\"from\": \"SGD\", \"to\": \"MYR\", \"q\": \"1.0\"},\n",
    "    {\"from\": \"CAD\", \"to\": \"VES\", \"q\": \"1.0\"}\n",
    "]\n",
    "\n",
    "# Lista de resultados\n",
    "resultados = []\n",
    "\n",
    "# Loop para processar cada conversão\n",
    "for params in parametros:\n",
    "    #requisição GET com os parametros desejados (parametros)\n",
    "    response = requests.get(url, headers=headers, params=params)\n",
    "    if response.status_code == 200:\n",
    "        # Sendo a resposta bem sucedida (code=200) converte a resposta em texto\n",
    "        exchange_rate = response.text\n",
    "        # o texto resultado vai para o dicionario 'resultados'\n",
    "        resultados.append({\n",
    "            'Moeda Origem': params['from'],\n",
    "            'Moeda Destino': params['to'],\n",
    "            'Quantidade': params['q'],\n",
    "            'Taxa de Câmbio': exchange_rate\n",
    "        })\n",
    "\n",
    "# DataFrame com os resultados\n",
    "df = pd.DataFrame(resultados)\n",
    "\n",
    "# Arquivo a ser criado\n",
    "file_name = 'LEAO_PEREIRA.xlsx'\n",
    "df.to_excel(file_name, index=False)\n",
    "\n",
    "print(f\"Arquivo '{file_name}' salvo com sucesso!\")\n"
   ]
  },
  {
   "cell_type": "markdown",
   "metadata": {},
   "source": [
    "## Exploração da base de dados"
   ]
  },
  {
   "cell_type": "markdown",
   "metadata": {},
   "source": [
    "* Composiçaõ das primeiras linhas"
   ]
  },
  {
   "cell_type": "code",
   "execution_count": 3,
   "metadata": {},
   "outputs": [
    {
     "data": {
      "text/html": [
       "<div>\n",
       "<style scoped>\n",
       "    .dataframe tbody tr th:only-of-type {\n",
       "        vertical-align: middle;\n",
       "    }\n",
       "\n",
       "    .dataframe tbody tr th {\n",
       "        vertical-align: top;\n",
       "    }\n",
       "\n",
       "    .dataframe thead th {\n",
       "        text-align: right;\n",
       "    }\n",
       "</style>\n",
       "<table border=\"1\" class=\"dataframe\">\n",
       "  <thead>\n",
       "    <tr style=\"text-align: right;\">\n",
       "      <th></th>\n",
       "      <th>Moeda Origem</th>\n",
       "      <th>Moeda Destino</th>\n",
       "      <th>Quantidade</th>\n",
       "      <th>Taxa de Câmbio</th>\n",
       "    </tr>\n",
       "  </thead>\n",
       "  <tbody>\n",
       "    <tr>\n",
       "      <th>0</th>\n",
       "      <td>USD</td>\n",
       "      <td>EUR</td>\n",
       "      <td>1.0</td>\n",
       "      <td>0.9234199999999999</td>\n",
       "    </tr>\n",
       "    <tr>\n",
       "      <th>1</th>\n",
       "      <td>SGD</td>\n",
       "      <td>MYR</td>\n",
       "      <td>1.0</td>\n",
       "      <td>3.513191178</td>\n",
       "    </tr>\n",
       "    <tr>\n",
       "      <th>2</th>\n",
       "      <td>CAD</td>\n",
       "      <td>VES</td>\n",
       "      <td>1.0</td>\n",
       "      <td>26.66954317</td>\n",
       "    </tr>\n",
       "  </tbody>\n",
       "</table>\n",
       "</div>"
      ],
      "text/plain": [
       "  Moeda Origem Moeda Destino Quantidade      Taxa de Câmbio\n",
       "0          USD           EUR        1.0  0.9234199999999999\n",
       "1          SGD           MYR        1.0         3.513191178\n",
       "2          CAD           VES        1.0         26.66954317"
      ]
     },
     "execution_count": 3,
     "metadata": {},
     "output_type": "execute_result"
    }
   ],
   "source": [
    "df.head()"
   ]
  },
  {
   "cell_type": "markdown",
   "metadata": {},
   "source": [
    "* tipos dos dados"
   ]
  },
  {
   "cell_type": "code",
   "execution_count": 4,
   "metadata": {},
   "outputs": [
    {
     "data": {
      "text/plain": [
       "Moeda Origem      object\n",
       "Moeda Destino     object\n",
       "Quantidade        object\n",
       "Taxa de Câmbio    object\n",
       "dtype: object"
      ]
     },
     "execution_count": 4,
     "metadata": {},
     "output_type": "execute_result"
    }
   ],
   "source": [
    "df.dtypes"
   ]
  },
  {
   "cell_type": "markdown",
   "metadata": {},
   "source": [
    "* Conversão do tipo para um dado que mantenha a maior precisão e ainda possa ser analisado"
   ]
  },
  {
   "cell_type": "code",
   "execution_count": 5,
   "metadata": {},
   "outputs": [
    {
     "data": {
      "text/plain": [
       "Moeda Origem       object\n",
       "Moeda Destino      object\n",
       "Quantidade         object\n",
       "Taxa de Câmbio    float64\n",
       "dtype: object"
      ]
     },
     "execution_count": 5,
     "metadata": {},
     "output_type": "execute_result"
    }
   ],
   "source": [
    "df['Taxa de Câmbio'] = df['Taxa de Câmbio'].astype(object).astype(float)\n",
    "\n",
    "df.dtypes"
   ]
  },
  {
   "cell_type": "markdown",
   "metadata": {},
   "source": [
    "* verificação da existencia de nulos ou vazios"
   ]
  },
  {
   "cell_type": "code",
   "execution_count": 6,
   "metadata": {},
   "outputs": [
    {
     "data": {
      "text/plain": [
       "Moeda Origem      0.0\n",
       "Moeda Destino     0.0\n",
       "Quantidade        0.0\n",
       "Taxa de Câmbio    0.0\n",
       "dtype: float64"
      ]
     },
     "execution_count": 6,
     "metadata": {},
     "output_type": "execute_result"
    }
   ],
   "source": [
    "df.isna().sum() / len(df)"
   ]
  },
  {
   "cell_type": "markdown",
   "metadata": {},
   "source": [
    "* obtenção das médias e quartis"
   ]
  },
  {
   "cell_type": "code",
   "execution_count": 7,
   "metadata": {},
   "outputs": [
    {
     "data": {
      "text/html": [
       "<div>\n",
       "<style scoped>\n",
       "    .dataframe tbody tr th:only-of-type {\n",
       "        vertical-align: middle;\n",
       "    }\n",
       "\n",
       "    .dataframe tbody tr th {\n",
       "        vertical-align: top;\n",
       "    }\n",
       "\n",
       "    .dataframe thead th {\n",
       "        text-align: right;\n",
       "    }\n",
       "</style>\n",
       "<table border=\"1\" class=\"dataframe\">\n",
       "  <thead>\n",
       "    <tr style=\"text-align: right;\">\n",
       "      <th></th>\n",
       "      <th>Taxa de Câmbio</th>\n",
       "    </tr>\n",
       "  </thead>\n",
       "  <tbody>\n",
       "    <tr>\n",
       "      <th>count</th>\n",
       "      <td>3.000000</td>\n",
       "    </tr>\n",
       "    <tr>\n",
       "      <th>mean</th>\n",
       "      <td>10.368718</td>\n",
       "    </tr>\n",
       "    <tr>\n",
       "      <th>std</th>\n",
       "      <td>14.176191</td>\n",
       "    </tr>\n",
       "    <tr>\n",
       "      <th>min</th>\n",
       "      <td>0.923420</td>\n",
       "    </tr>\n",
       "    <tr>\n",
       "      <th>25%</th>\n",
       "      <td>2.218306</td>\n",
       "    </tr>\n",
       "    <tr>\n",
       "      <th>50%</th>\n",
       "      <td>3.513191</td>\n",
       "    </tr>\n",
       "    <tr>\n",
       "      <th>75%</th>\n",
       "      <td>15.091367</td>\n",
       "    </tr>\n",
       "    <tr>\n",
       "      <th>max</th>\n",
       "      <td>26.669543</td>\n",
       "    </tr>\n",
       "  </tbody>\n",
       "</table>\n",
       "</div>"
      ],
      "text/plain": [
       "       Taxa de Câmbio\n",
       "count        3.000000\n",
       "mean        10.368718\n",
       "std         14.176191\n",
       "min          0.923420\n",
       "25%          2.218306\n",
       "50%          3.513191\n",
       "75%         15.091367\n",
       "max         26.669543"
      ]
     },
     "execution_count": 7,
     "metadata": {},
     "output_type": "execute_result"
    }
   ],
   "source": [
    "df.describe()"
   ]
  },
  {
   "cell_type": "markdown",
   "metadata": {},
   "source": [
    "* Visualização simples do describe"
   ]
  },
  {
   "cell_type": "code",
   "execution_count": 10,
   "metadata": {},
   "outputs": [
    {
     "data": {
      "image/png": "[encoded data removed]",
      "text/plain": [
       "<Figure size 640x480 with 1 Axes>"
      ]
     },
     "metadata": {},
     "output_type": "display_data"
    }
   ],
   "source": [
    "import matplotlib.pyplot as plt\n",
    "descricao = df['Taxa de Câmbio'].describe()\n",
    "\n",
    "# Agora, vamos plotar um gráfico de barras para visualizar o resumo estatístico\n",
    "descricao.plot(kind='bar')\n",
    "\n",
    "# Adicione títulos e rótulos para clareza\n",
    "plt.title('Resumo Estatístico da Taxa de Câmbio')\n",
    "plt.xlabel('Estatísticas')\n",
    "plt.ylabel('Valor')\n",
    "\n",
    "# Exiba o gráfico\n",
    "plt.show()"
   ]
  }
 ],
 "metadata": {
  "kernelspec": {
   "display_name": "Python 3",
   "language": "python",
   "name": "python3"
  },
  "language_info": {
   "codemirror_mode": {
    "name": "ipython",
    "version": 3
   },
   "file_extension": ".py",
   "mimetype": "text/x-python",
   "name": "python",
   "nbconvert_exporter": "python",
   "pygments_lexer": "ipython3",
   "version": "3.11.8"
  }
 },
 "nbformat": 4,
 "nbformat_minor": 2
}
