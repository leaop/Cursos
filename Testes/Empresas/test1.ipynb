{
 "cells": [
  {
   "cell_type": "code",
   "execution_count": 14,
   "metadata": {},
   "outputs": [],
   "source": [
    "import pandas as pd\n",
    "import requests"
   ]
  },
  {
   "cell_type": "code",
   "execution_count": 15,
   "metadata": {},
   "outputs": [
    {
     "name": "stdout",
     "output_type": "stream",
     "text": [
      "Arquivo 'LEAO_PEREIRA.xlsx' salvo com sucesso!\n"
     ]
    }
   ],
   "source": [
    "# Chave da API obtida no RapidAPI\n",
    "headers = {\n",
    "    'x-rapidapi-host': \"currency-exchange.p.rapidapi.com\",\n",
    "    'x-rapidapi-key': \"97b52f616amsh8ff4be3f936deefp1bcff9jsne88fc0d9a374\"\n",
    "}\n",
    "\n",
    "url = \"https://currency-exchange.p.rapidapi.com/exchange\"\n",
    "\n",
    "# Lista de parâmetros para as conversões desejadas\n",
    "parametros = [\n",
    "    {\"from\": \"USD\", \"to\": \"EUR\", \"q\": \"1.0\"},\n",
    "    {\"from\": \"BRL\", \"to\": \"USD\", \"q\": \"1.0\"},\n",
    "    {\"from\": \"BRL\", \"to\": \"EUR\", \"q\": \"1.0\"}\n",
    "]\n",
    "\n",
    "# Lista de resultados\n",
    "resultados = []\n",
    "\n",
    "# Loop para processar cada conversão\n",
    "for params in parametros:\n",
    "    #requisição GET com os parametros desejados (parametros)\n",
    "    response = requests.get(url, headers=headers, params=params)\n",
    "    if response.status_code == 200:\n",
    "        # Sendo a resposta bem sucedida (code=200) converte a resposta em texto\n",
    "        exchange_rate = response.text\n",
    "        # o texto resultado vai para o dicionario 'resultados'\n",
    "        resultados.append({\n",
    "            'Moeda Origem': params['from'],\n",
    "            'Moeda Destino': params['to'],\n",
    "            'Quantidade': params['q'],\n",
    "            'Taxa de Câmbio': exchange_rate\n",
    "        })\n",
    "\n",
    "# DataFrame com os resultados\n",
    "df = pd.DataFrame(resultados)\n",
    "\n",
    "# Arquivo a ser criado\n",
    "file_name = 'LEAO_PEREIRA.xlsx'\n",
    "df.to_excel(file_name, index=False)\n",
    "\n",
    "print(f\"Arquivo '{file_name}' salvo com sucesso!\")\n"
   ]
  }
 ],
 "metadata": {
  "kernelspec": {
   "display_name": "Python 3",
   "language": "python",
   "name": "python3"
  },
  "language_info": {
   "codemirror_mode": {
    "name": "ipython",
    "version": 3
   },
   "file_extension": ".py",
   "mimetype": "text/x-python",
   "name": "python",
   "nbconvert_exporter": "python",
   "pygments_lexer": "ipython3",
   "version": "3.11.8"
  }
 },
 "nbformat": 4,
 "nbformat_minor": 2
}
