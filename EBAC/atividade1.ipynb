{
 "cells": [
  {
   "cell_type": "markdown",
   "metadata": {},
   "source": [
    "# Atividade 1 \n",
    "---\n",
    "<img src=\"https://th.bing.com/th/id/OIP.d27A5K4i63BktGDEg25hqAHaEl?w=241&h=180&c=7&r=0&o=5&dpr=1.2&pid=1.7\" alt=\"python\">\n",
    "\n",
    "---\n",
    "## Questão 2\n",
    "\n",
    "Preencha as células de código para incluir os valores de (A), (B) e (C) na tabela de ticket médio."
   ]
  },
  {
   "cell_type": "markdown",
   "metadata": {},
   "source": [
    "| Dia   | Valor Total Vendas | Qtd Total Vendas | Ticket Medio |\n",
    "|-------|--------------------|------------------|-|\n",
    "| 19/01 | 153.98             | 3                |?|\n",
    "| 20/01 | 337.01             | 7                |?|\n",
    "| 23/01 | 295.33             | 5                |?|"
   ]
  },
  {
   "cell_type": "code",
   "execution_count": 5,
   "metadata": {},
   "outputs": [
    {
     "name": "stdout",
     "output_type": "stream",
     "text": [
      "| Dia   | Valor Total Vendas | Qtd Total Vendas | Ticket Medio |\n",
      "|-------|--------------------|------------------|--------------|\n",
      "| 1/01 | 153.98             | 3                | 51.33         |\n",
      "| 2/01 | 337.01             | 7                | 48.14         |\n",
      "| 3/01 | 295.33             | 5                | 59.07         |\n",
      "\n"
     ]
    }
   ],
   "source": [
    "# Definindo os valores de venda e quantidade de vendas para cada dia\n",
    "valor_vendas = [153.98, 337.01, 295.33]\n",
    "qtd_vendas = [3, 7, 5]\n",
    "\n",
    "# Calculando o Ticket Médio para cada dia\n",
    "ticket_medio = [valor / qtd for valor, qtd in zip(valor_vendas, qtd_vendas)]\n",
    "\"\"\" \n",
    "Esta linha utiliza uma compreensão de lista para calcular o Ticket Médio. zip(valor_vendas, qtd_vendas) \n",
    "combina elementos correspondentes de valor_vendas e qtd_vendas. Em seguida, \n",
    "a compreensão de lista [valor / qtd for valor, qtd in zip(valor_vendas, qtd_vendas)] calcula \n",
    "o Ticket Médio para cada dia, dividindo o valor total pela quantidade de vendas\n",
    "\"\"\"\n",
    "# Preenchendo a tabela\n",
    "tabela = \"| Dia   | Valor Total Vendas | Qtd Total Vendas | Ticket Medio |\\n\"\n",
    "tabela += \"|-------|--------------------|------------------|--------------|\\n\"\n",
    "\n",
    "for i in range(len(valor_vendas)):\n",
    "    tabela += f\"| {i+1}/01 | {valor_vendas[i]:.2f}             | {qtd_vendas[i]}                | {ticket_medio[i]:.2f}         |\\n\"\n",
    "\n",
    "# Imprimindo a tabela\n",
    "print(tabela)\n"
   ]
  },
  {
   "cell_type": "code",
   "execution_count": 6,
   "metadata": {},
   "outputs": [
    {
     "name": "stdout",
     "output_type": "stream",
     "text": [
      "| Dia   | Valor Total Vendas | Qtd Total Vendas | Ticket Medio |\n",
      "|-------|--------------------|------------------|--------------|\n",
      "| 1 | 153.98             | 3                | 51.33         |\n",
      "| 2 | 337.01             | 7                | 48.14         |\n",
      "| 3 | 295.33             | 5                | 59.07         |\n",
      "\n"
     ]
    }
   ],
   "source": [
    "# Definindo os valores de venda e quantidade de vendas para cada dia\n",
    "valor_vendas = [153.98, 337.01, 295.33]\n",
    "qtd_vendas = [3, 7, 5]\n",
    "\n",
    "# Inicializando a string da tabela\n",
    "tabela = \"| Dia   | Valor Total Vendas | Qtd Total Vendas | Ticket Medio |\\n\"\n",
    "tabela += \"|-------|--------------------|------------------|--------------|\\n\"\n",
    "\"\"\"\n",
    "O uso de tabela += é uma forma de concatenar strings em Python. \n",
    "A cada iteração do loop, uma nova linha é adicionada à string tabela. \n",
    "Isso é feito para construir gradualmente a tabela linha por linha. \n",
    "Se você simplesmente usasse tabela = ... em cada iteração, a string seria substituída a cada vez, \n",
    "e você acabaria apenas com a última linha na tabela.\n",
    "\n",
    "Ao usar tabela +=, você está efetivamente adicionando cada linha à string existente, \n",
    "preservando as linhas anteriores e construindo a tabela completa. \n",
    "Isso é especialmente útil em situações onde você está construindo uma string em partes, como em loops\n",
    "\"\"\"\n",
    "# Calculando o Ticket Médio e preenchendo a tabela\n",
    "for i in range(len(valor_vendas)):\n",
    "    valor = valor_vendas[i]\n",
    "    qtd = qtd_vendas[i]\n",
    "    ticket_medio = valor / qtd\n",
    "\n",
    "    # Adicionando a linha à tabela\n",
    "    tabela += \"| {} | {:.2f}             | {}                | {:.2f}         |\\n\".format(i+1, valor, qtd, ticket_medio)\n",
    "\n",
    "# Imprimindo a tabela\n",
    "print(tabela)"
   ]
  },
  {
   "cell_type": "code",
   "execution_count": 7,
   "metadata": {},
   "outputs": [
    {
     "name": "stdout",
     "output_type": "stream",
     "text": [
      "| Dia   | Valor Total Vendas | Qtd Total Vendas | Ticket Medio |\n",
      "|-------|--------------------|------------------|--------------|\n",
      "| 1/01 | 153.98             | 3                | 51.33         |\n",
      "| 2/01 | 337.01             | 7                | 48.14         |\n",
      "| 3/01 | 295.33             | 5                | 59.07         |\n",
      "\n"
     ]
    }
   ],
   "source": [
    "# Definindo os valores de venda e quantidade de vendas para cada dia\n",
    "valor_vendas = [153.98, 337.01, 295.33]\n",
    "qtd_vendas = [3, 7, 5]\n",
    "\n",
    "# Calculando o Ticket Médio\n",
    "A = valor_vendas[0] / qtd_vendas[0]\n",
    "B = valor_vendas[1] / qtd_vendas[1]\n",
    "C = valor_vendas[2] / qtd_vendas[2]\n",
    "\n",
    "# Preenchendo a tabela\n",
    "tabela = \"| Dia   | Valor Total Vendas | Qtd Total Vendas | Ticket Medio |\\n\"\n",
    "tabela += \"|-------|--------------------|------------------|--------------|\\n\"\n",
    "tabela += f\"| 1/01 | {valor_vendas[0]:.2f}             | {qtd_vendas[0]}                | {A:.2f}         |\\n\"\n",
    "tabela += f\"| 2/01 | {valor_vendas[1]:.2f}             | {qtd_vendas[1]}                | {B:.2f}         |\\n\"\n",
    "tabela += f\"| 3/01 | {valor_vendas[2]:.2f}             | {qtd_vendas[2]}                | {C:.2f}         |\\n\"\n",
    "\n",
    "# Imprimindo a tabela\n",
    "print(tabela)\n"
   ]
  },
  {
   "cell_type": "markdown",
   "metadata": {},
   "source": [
    "## Questão 3\n",
    "Aplique três métodos distintos na string \"Saiba mais\""
   ]
  },
  {
   "cell_type": "code",
   "execution_count": 8,
   "metadata": {},
   "outputs": [
    {
     "name": "stdout",
     "output_type": "stream",
     "text": [
      "SAIBA MAIS\n"
     ]
    }
   ],
   "source": [
    "texto = \"Saiba mais\"\n",
    "resultado_1 = texto.upper()\n",
    "print(resultado_1)\n"
   ]
  },
  {
   "cell_type": "code",
   "execution_count": 9,
   "metadata": {},
   "outputs": [
    {
     "name": "stdout",
     "output_type": "stream",
     "text": [
      "Saiba menos\n"
     ]
    }
   ],
   "source": [
    "texto = \"Saiba mais\"\n",
    "resultado_2 = texto.replace(\"mais\", \"menos\")\n",
    "print(resultado_2)\n"
   ]
  },
  {
   "cell_type": "code",
   "execution_count": 10,
   "metadata": {},
   "outputs": [
    {
     "name": "stdout",
     "output_type": "stream",
     "text": [
      "['Saiba', 'mais']\n"
     ]
    }
   ],
   "source": [
    "texto = \"Saiba mais\"\n",
    "resultado_3 = texto.split()\n",
    "print(resultado_3)\n"
   ]
  },
  {
   "cell_type": "markdown",
   "metadata": {},
   "source": [
    "## Questão 4\n",
    "Extraia da string indicada o valor da taxa selic na variável selic e o valor do ano na variável ano . Imprima os valores na tela."
   ]
  },
  {
   "cell_type": "code",
   "execution_count": 15,
   "metadata": {},
   "outputs": [
    {
     "name": "stdout",
     "output_type": "stream",
     "text": [
      "Ano:  2023\n",
      "Taxa SELIC: 5 %\n"
     ]
    }
   ],
   "source": [
    "# String fornecida\n",
    "texto = \"O valor da taxa selic no ano de 2023 é de 5%\"\n",
    "\n",
    "# Encontrando a posição de \"ano de\"\n",
    "pos_ano_de = texto.find(\"ano de\")\n",
    "\n",
    "# Extraindo o ano\n",
    "ano = texto[pos_ano_de + len(\"ano de\"):pos_ano_de + len(\"ano de\") + 5]\n",
    "\n",
    "# Encontrando a posição de \"é de\"\n",
    "pos_e_de = texto.find(\"é de\")\n",
    "\n",
    "# Extraindo a taxa SELIC\n",
    "selic = texto[pos_e_de + len(\"é de \"):texto.find(\"%\")]\n",
    "\n",
    "# Imprimindo os valores\n",
    "print(\"Ano:\", ano)\n",
    "print(\"Taxa SELIC:\", selic, \"%\")"
   ]
  },
  {
   "cell_type": "markdown",
   "metadata": {},
   "source": [
    "# Questão 5\n",
    "\n",
    "Utilize a tabela da verdade para responder a pergunta: qual o valor da variável x?"
   ]
  },
  {
   "cell_type": "markdown",
   "metadata": {},
   "source": [
    "| A        | B        | A OR B   | | A AND B  | | NOT A    |   X    |\n",
    "|----------|----------|----------|-|----------|-|----------|--------|\n",
    "| **TRUE** | **TRUE** | **TRUE** | | **TRUE** | | FALSE    |**TRUE**|\n",
    "| **TRUE** | FALSE    | **TRUE** | | FALSE    | | FALSE    | FALSE  |\n",
    "| FALSE    | FALSE    | FALSE    | | FALSE    | | **TRUE** |**TRUE**|\n",
    "| FALSE    | **TRUE** | **TRUE** | | FALSE    | | **TRUE** |**TRUE**|"
   ]
  },
  {
   "cell_type": "code",
   "execution_count": 16,
   "metadata": {},
   "outputs": [
    {
     "name": "stdout",
     "output_type": "stream",
     "text": [
      "Para A=True, B=True, x=True\n",
      "Para A=True, B=False, x=False\n",
      "Para A=False, B=False, x=True\n",
      "Para A=False, B=True, x=True\n"
     ]
    }
   ],
   "source": [
    "# Definindo a tabela da verdade\n",
    "tabela_verdade = [\n",
    "    (True, True),\n",
    "    (True, False),\n",
    "    (False, False),\n",
    "    (False, True)\n",
    "]\n",
    "\n",
    "# Inicializando a lista para armazenar os resultados de x\n",
    "resultados_x = []\n",
    "\n",
    "# Avaliando a expressão lógica para cada linha na tabela da verdade\n",
    "for A, B in tabela_verdade:\n",
    "    A_AND_B = A and B\n",
    "    NOT_A = not A\n",
    "    A_AND_B_OR_NOT_A = A_AND_B or NOT_A\n",
    "\n",
    "    # Armazenando o resultado de x\n",
    "    resultados_x.append(A_AND_B_OR_NOT_A)\n",
    "\n",
    "# Imprimindo os resultados\n",
    "for idx, resultado in enumerate(resultados_x):\n",
    "    print(f\"Para A={tabela_verdade[idx][0]}, B={tabela_verdade[idx][1]}, x={resultado}\")\n"
   ]
  }
 ],
 "metadata": {
  "kernelspec": {
   "display_name": "Python 3",
   "language": "python",
   "name": "python3"
  },
  "language_info": {
   "codemirror_mode": {
    "name": "ipython",
    "version": 3
   },
   "file_extension": ".py",
   "mimetype": "text/x-python",
   "name": "python",
   "nbconvert_exporter": "python",
   "pygments_lexer": "ipython3",
   "version": "3.11.7"
  }
 },
 "nbformat": 4,
 "nbformat_minor": 2
}
