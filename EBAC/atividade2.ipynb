{
 "cells": [
  {
   "cell_type": "markdown",
   "metadata": {},
   "source": [
    "# Atividade 2 \n",
    "\n",
    "<img src=\"https://raw.githubusercontent.com/andre-marcos-perez/ebac-course-utils/main/media/logo/newebac_logo_black_half.png\" alt=\"ebac-logo\">\n",
    "\n",
    "\n",
    "--- "
   ]
  },
  {
   "cell_type": "markdown",
   "metadata": {},
   "source": [
    "## Questão 1\n",
    "Criei uma lista chamada filmes com o nome dos 10 primeiros filmes mais bem avaliados no site no IMDB. Crie a lista utilizando a seguinte estrutura: \n",
    "In [ ]: filmes = [...]\n",
    "\n",
    "Simule a movimentação do ranking. Para isso, utilize os métodos insert e pop para trocar a posição do primeiro e do segundo filme da lista. \n"
   ]
  },
  {
   "cell_type": "code",
   "execution_count": 11,
   "metadata": {},
   "outputs": [
    {
     "name": "stdout",
     "output_type": "stream",
     "text": [
      "['barbie', 'oppenheimer', 'John Wick: Charpter 4', 'Spider-Man: Across the Spider-Verse', 'Guardians of the Galaxy Vol.3', 'The Flash', 'The Super Mario Bros. Movie', 'Sound of Freedom', 'Killers of the Flower Moon', 'The Little Mermaid']\n"
     ]
    }
   ],
   "source": [
    "top_filmes_2023 = ['barbie', 'oppenheimer', 'John Wick: Charpter 4', 'Spider-Man: Across the Spider-Verse', 'Guardians of the Galaxy Vol.3', 'The Flash', 'The Super Mario Bros. Movie', 'Sound of Freedom', 'Killers of the Flower Moon', 'The Little Mermaid']\n",
    "\n",
    "print(top_filmes_2023)"
   ]
  },
  {
   "cell_type": "code",
   "execution_count": 12,
   "metadata": {},
   "outputs": [
    {
     "name": "stdout",
     "output_type": "stream",
     "text": [
      "Barbie\n",
      "Oppenheimer\n",
      "John Wick: Charpter 4\n",
      "Spider-Man: Across the Spider-Verse\n",
      "Guardians of the Galaxy Vol.3\n",
      "The Flash\n",
      "The Super Mario Bros. Movie\n",
      "Sound of Freedom\n",
      "Killers of the Flower Moon\n",
      "The Little Mermaid\n"
     ]
    }
   ],
   "source": [
    "filmes = [\n",
    "    {\"nome\": \"Barbie\"},\n",
    "    {\"nome\": \"Oppenheimer\"},\n",
    "    {\"nome\": \"John Wick: Charpter 4\"},\n",
    "    {\"nome\": \"Spider-Man: Across the Spider-Verse\"},\n",
    "    {\"nome\": \"Guardians of the Galaxy Vol.3\"},\n",
    "    {\"nome\": \"The Flash\"},\n",
    "    {\"nome\": \"The Super Mario Bros. Movie\"},\n",
    "    {\"nome\": \"Sound of Freedom\"},\n",
    "    {\"nome\": \"Killers of the Flower Moon\"},\n",
    "    {\"nome\": \"The Little Mermaid\"}\n",
    "]\n",
    "\n",
    "for filme in filmes:\n",
    "    print(filme[\"nome\"])"
   ]
  },
  {
   "cell_type": "code",
   "execution_count": 16,
   "metadata": {},
   "outputs": [
    {
     "name": "stdout",
     "output_type": "stream",
     "text": [
      "Lista de Filmes após a movimentação do ranking:\n",
      "Oppenheimer\n",
      "Barbie\n",
      "John Wick: Charpter 4\n",
      "Spider-Man: Across the Spider-Verse\n",
      "Guardians of the Galaxy Vol.3\n",
      "The Flash\n",
      "The Super Mario Bros. Movie\n",
      "Sound of Freedom\n",
      "Killers of the Flower Moon\n",
      "The Little Mermaid\n"
     ]
    }
   ],
   "source": [
    "# Lista inicial dos filmes\n",
    "filmes = [\n",
    "    {\"nome\": \"Barbie\"},\n",
    "    {\"nome\": \"Oppenheimer\"},\n",
    "    {\"nome\": \"John Wick: Charpter 4\"},\n",
    "    {\"nome\": \"Spider-Man: Across the Spider-Verse\"},\n",
    "    {\"nome\": \"Guardians of the Galaxy Vol.3\"},\n",
    "    {\"nome\": \"The Flash\"},\n",
    "    {\"nome\": \"The Super Mario Bros. Movie\"},\n",
    "    {\"nome\": \"Sound of Freedom\"},\n",
    "    {\"nome\": \"Killers of the Flower Moon\"},\n",
    "    {\"nome\": \"The Little Mermaid\"}\n",
    "]\n",
    "\n",
    "# Simulando a movimentação do ranking trocando o primeiro e o segundo filme\n",
    "# Usando pop para remover e insert para inserir em uma nova posição\n",
    "primeiro_filme = filmes.pop(0)\n",
    "segundo_filme = filmes.pop(0)# Após a execução de pop(0), o segundo filme ocupa agora a posição 0 na lista, e os índices dos demais filmes são ajustados para cima\n",
    "# Os filmes são retirados em armazenados em uma memoria temporária\n",
    "# Depois recolocamos na ordem inversa com o insert\n",
    "filmes.insert(0, segundo_filme)\n",
    "filmes.insert(1, primeiro_filme)\n",
    "\n",
    "# Imprimindo a lista atualizada\n",
    "print(\"Lista de Filmes após a movimentação do ranking:\")\n",
    "for filme in filmes:\n",
    "    print(filme[\"nome\"])\n"
   ]
  },
  {
   "cell_type": "markdown",
   "metadata": {},
   "source": [
    "## Questão 2"
   ]
  },
  {
   "cell_type": "markdown",
   "metadata": {},
   "source": [
    "Imagine que aconteceu um erro no seu ranking. Simule a duplicação dos três últimos filmes da lista. \n",
    "Imprima o resultado."
   ]
  },
  {
   "cell_type": "code",
   "execution_count": 18,
   "metadata": {},
   "outputs": [
    {
     "name": "stdout",
     "output_type": "stream",
     "text": [
      "Lista de Filmes após a duplicação dos três últimos:\n",
      "Barbie\n",
      "Oppenheimer\n",
      "John Wick: Charpter 4\n",
      "Spider-Man: Across the Spider-Verse\n",
      "Guardians of the Galaxy Vol.3\n",
      "The Flash\n",
      "The Super Mario Bros. Movie\n",
      "Sound of Freedom\n",
      "Killers of the Flower Moon\n",
      "The Little Mermaid\n",
      "Sound of Freedom\n",
      "Killers of the Flower Moon\n",
      "The Little Mermaid\n",
      "Sound of Freedom\n",
      "Killers of the Flower Moon\n",
      "The Little Mermaid\n"
     ]
    }
   ],
   "source": [
    "#retorno a ordem original\n",
    "primeiro_filme = filmes.pop(0)\n",
    "segundo_filme = filmes.pop(0)\n",
    "filmes.insert(0, primeiro_filme)\n",
    "filmes.insert(0, segundo_filme)\n",
    "\n",
    "# Simula a duplicação dos três últimos filmes\n",
    "ultimos_filmes = filmes[-3:]  # Obtém os três últimos filmes\n",
    "filmes.extend(ultimos_filmes.copy())  # Adiciona cópias dos três últimos filmes ao final da lista\n",
    "\n",
    "# Imprime a lista atualizada\n",
    "print(\"Lista de Filmes após a duplicação dos três últimos:\")\n",
    "for filme in filmes:\n",
    "    print(filme[\"nome\"])"
   ]
  },
  {
   "cell_type": "markdown",
   "metadata": {},
   "source": [
    "Utilize a conversão set e list para remover os valores duplicados. \n",
    "Imprima o resultado."
   ]
  },
  {
   "cell_type": "code",
   "execution_count": 19,
   "metadata": {},
   "outputs": [
    {
     "name": "stdout",
     "output_type": "stream",
     "text": [
      "Lista de Filmes sem Duplicatas:\n",
      "{'nome': 'Sound of Freedom'}\n",
      "{'nome': 'Barbie'}\n",
      "{'nome': 'Oppenheimer'}\n",
      "{'nome': 'Guardians of the Galaxy Vol.3'}\n",
      "{'nome': 'The Super Mario Bros. Movie'}\n",
      "{'nome': 'Killers of the Flower Moon'}\n",
      "{'nome': 'The Little Mermaid'}\n",
      "{'nome': 'The Flash'}\n",
      "{'nome': 'Spider-Man: Across the Spider-Verse'}\n",
      "{'nome': 'John Wick: Charpter 4'}\n"
     ]
    }
   ],
   "source": [
    "# Converte para um conjunto para remover duplicatas e, em seguida, converte de volta para uma lista\n",
    "filmes_sem_duplicatas = list(set(tuple(filme.items()) for filme in filmes))\n",
    "\n",
    "# Imprime a lista atualizada sem duplicatas\n",
    "print(\"Lista de Filmes sem Duplicatas:\")\n",
    "for filme in filmes_sem_duplicatas:\n",
    "    print(dict(filme))"
   ]
  },
  {
   "cell_type": "markdown",
   "metadata": {},
   "source": [
    "## Questão 3\n",
    "\n",
    "Neste momento, repita o passo a passo de criação da lista feita anteriormente: uma lista chamada filmes com o nome dos 10 primeiros filmes mais bem avaliados no site no IMDB. \n",
    "Adicione mais informações a essa estrutura de dados com o ano e a sinopse de cada filme. \n",
    "Os elementos da lista filmes devem ser dicionários no seguinte formato:\n",
    "\n",
    "{'nome': <nome-do-filme>, 'ano': <ano do filme>}, 'sinopse': <sinopse do filme>}"
   ]
  },
  {
   "cell_type": "code",
   "execution_count": 20,
   "metadata": {},
   "outputs": [
    {
     "name": "stdout",
     "output_type": "stream",
     "text": [
      "Nome: Barbie, Ano: 2023, Sinopse: A história emocionante da jornada de uma boneca em um mundo de fantasia.\n",
      "Nome: Oppenheimer, Ano: 2023, Sinopse: Um drama histórico que explora a vida do cientista J. Robert Oppenheimer.\n",
      "Nome: John Wick: Chapter 4, Ano: 2023, Sinopse: O lendário assassino John Wick enfrenta novos desafios e inimigos.\n",
      "Nome: Spider-Man: Across the Spider-Verse, Ano: 2023, Sinopse: Uma aventura épica do Homem-Aranha através de diferentes dimensões.\n",
      "Nome: Guardians of the Galaxy Vol.3, Ano: 2023, Sinopse: As incríveis aventuras intergalácticas dos Guardiões da Galáxia continuam.\n",
      "Nome: The Flash, Ano: 2023, Sinopse: O velocista escarlate enfrenta uma ameaça que desafia as leis do tempo.\n",
      "Nome: The Super Mario Bros. Movie, Ano: 2023, Sinopse: Uma animação baseada nos icônicos personagens da Nintendo.\n",
      "Nome: Sound of Freedom, Ano: 2023, Sinopse: Baseado em eventos reais, o filme segue esforços para combater o tráfico humano.\n",
      "Nome: Killers of the Flower Moon, Ano: 2023, Sinopse: Um drama criminal que explora uma série de assassinatos em uma tribo indígena.\n",
      "Nome: The Little Mermaid, Ano: 2023, Sinopse: Uma reimaginação do clássico conto de fadas sobre uma sereia e seu desejo de viver na terra.\n"
     ]
    }
   ],
   "source": [
    "filmes = [\n",
    "    {\"nome\": \"Barbie\", \"ano\": 2023, \"sinopse\": \"A história emocionante da jornada de uma boneca em um mundo de fantasia.\"},\n",
    "    {\"nome\": \"Oppenheimer\", \"ano\": 2023, \"sinopse\": \"Um drama histórico que explora a vida do cientista J. Robert Oppenheimer.\"},\n",
    "    {\"nome\": \"John Wick: Chapter 4\", \"ano\": 2023, \"sinopse\": \"O lendário assassino John Wick enfrenta novos desafios e inimigos.\"},\n",
    "    {\"nome\": \"Spider-Man: Across the Spider-Verse\", \"ano\": 2023, \"sinopse\": \"Uma aventura épica do Homem-Aranha através de diferentes dimensões.\"},\n",
    "    {\"nome\": \"Guardians of the Galaxy Vol.3\", \"ano\": 2023, \"sinopse\": \"As incríveis aventuras intergalácticas dos Guardiões da Galáxia continuam.\"},\n",
    "    {\"nome\": \"The Flash\", \"ano\": 2023, \"sinopse\": \"O velocista escarlate enfrenta uma ameaça que desafia as leis do tempo.\"},\n",
    "    {\"nome\": \"The Super Mario Bros. Movie\", \"ano\": 2023, \"sinopse\": \"Uma animação baseada nos icônicos personagens da Nintendo.\"},\n",
    "    {\"nome\": \"Sound of Freedom\", \"ano\": 2023, \"sinopse\": \"Baseado em eventos reais, o filme segue esforços para combater o tráfico humano.\"},\n",
    "    {\"nome\": \"Killers of the Flower Moon\", \"ano\": 2023, \"sinopse\": \"Um drama criminal que explora uma série de assassinatos em uma tribo indígena.\"},\n",
    "    {\"nome\": \"The Little Mermaid\", \"ano\": 2023, \"sinopse\": \"Uma reimaginação do clássico conto de fadas sobre uma sereia e seu desejo de viver na terra.\"},\n",
    "]\n",
    "\n",
    "# Imprime a lista de filmes\n",
    "for filme in filmes:\n",
    "    print(f\"Nome: {filme['nome']}, Ano: {filme['ano']}, Sinopse: {filme['sinopse']}\")\n"
   ]
  }
 ],
 "metadata": {
  "kernelspec": {
   "display_name": "Python 3",
   "language": "python",
   "name": "python3"
  },
  "language_info": {
   "codemirror_mode": {
    "name": "ipython",
    "version": 3
   },
   "file_extension": ".py",
   "mimetype": "text/x-python",
   "name": "python",
   "nbconvert_exporter": "python",
   "pygments_lexer": "ipython3",
   "version": "3.11.7"
  }
 },
 "nbformat": 4,
 "nbformat_minor": 2
}
