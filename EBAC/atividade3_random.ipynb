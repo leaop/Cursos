{
 "cells": [
  {
   "cell_type": "markdown",
   "metadata": {},
   "source": [
    "# Atividade 3 \n",
    "\n",
    "<img src=\"https://raw.githubusercontent.com/andre-marcos-perez/ebac-course-utils/main/media/logo/newebac_logo_black_half.png\" alt=\"ebac-logo\">\n",
    "\n",
    "\n",
    "--- "
   ]
  },
  {
   "cell_type": "markdown",
   "metadata": {},
   "source": [
    "## Questão 1\n",
    "\n",
    "Estrutura condicional for/in\n",
    "\n",
    "- Imprima os seguintes valores da lista: tempo_gasto_site e idade\n",
    "- Extraia os valores da chave tempo_gasto_site\n",
    "- for dado_de_usuário in propaganda_online\n",
    "- Extraia os valores da chave idade\n",
    "- for dado_de_usuário im propaganda_online"
   ]
  },
  {
   "cell_type": "code",
   "execution_count": 1,
   "metadata": {},
   "outputs": [],
   "source": [
    "import random #biblioteca para gerar numeros aleatórios\n",
    "\n",
    "# Gera 20 valores aleatórios para tempo_gasto_site (em minutos) armazenados em uma lista\n",
    "tempo_gasto_site = [random.uniform(10, 120) for _ in range(20)]\n",
    "\n",
    "# Gera 20 valores aleatórios para idade (entre 18 e 65 anos) armazenados em uma lista\n",
    "idade = [random.randint(18, 65) for _ in range(20)]"
   ]
  },
  {
   "cell_type": "code",
   "execution_count": 2,
   "metadata": {},
   "outputs": [
    {
     "name": "stdout",
     "output_type": "stream",
     "text": [
      "Exemplos de valores gerados:\n",
      "Dado 1: Tempo Gasto no Site: 78.26 minutos, Idade: 63 anos\n",
      "Dado 2: Tempo Gasto no Site: 97.44 minutos, Idade: 26 anos\n",
      "Dado 3: Tempo Gasto no Site: 14.90 minutos, Idade: 41 anos\n",
      "Dado 4: Tempo Gasto no Site: 89.62 minutos, Idade: 38 anos\n",
      "Dado 5: Tempo Gasto no Site: 66.78 minutos, Idade: 32 anos\n"
     ]
    }
   ],
   "source": [
    "# Os valores podem ser acessados utilizando um loop for\n",
    "print(\"Exemplos de valores gerados:\")\n",
    "for i in range(5): #o comum nas bibliotecas é exibição dos 5 primeiros\n",
    "    print(f\"Dado {i + 1}: Tempo Gasto no Site: {tempo_gasto_site[i]:.2f} minutos, Idade: {idade[i]} anos\")"
   ]
  },
  {
   "cell_type": "code",
   "execution_count": 3,
   "metadata": {},
   "outputs": [
    {
     "name": "stdout",
     "output_type": "stream",
     "text": [
      "Os 5 primeiros elementos da lista de Propaganda Online:\n",
      "Usuário 1> Tempo gasto em propaganda: 75.26\n",
      "Usuário 2> Tempo gasto em propaganda: 94.44\n",
      "Usuário 3> Tempo gasto em propaganda: 11.90\n",
      "Usuário 4> Tempo gasto em propaganda: 87.62\n",
      "Usuário 5> Tempo gasto em propaganda: 63.78\n"
     ]
    }
   ],
   "source": [
    "# Inicializando uma lista vazia para representar propaganda_online\n",
    "propaganda_online = []\n",
    "\n",
    "# Inicializando uma variável para representar dados_de_usuario\n",
    "dados_de_usuario = 1\n",
    "\n",
    "# Loop for que itera sobre os valores originais de tempo_gasto_site\n",
    "for tempo_gasto_site_original in tempo_gasto_site:\n",
    "    # Reduz o tempo_gasto_site entre 1 e 5 minutos para cada elemento\n",
    "    tempo_gasto_site_modificado = tempo_gasto_site_original - random.randint(1, 5)\n",
    "\n",
    "    # Adiciona o valor modificado à lista propaganda_online\n",
    "    propaganda_online.append(tempo_gasto_site_modificado)\n",
    "\n",
    "    # Incrementa dados_de_usuario para o próximo usuário\n",
    "    dados_de_usuario += 1\n",
    "\n",
    "# Agora, a lista propaganda_online foi criada com base nos valores originais de tempo_gasto_site\n",
    "print(\"Os 5 primeiros elementos da lista de Propaganda Online:\")\n",
    "for i, valor in enumerate(propaganda_online[:5]):\n",
    "    print(f\"Usuário {i + 1}> Tempo gasto em propaganda: {valor:.2f}\")"
   ]
  },
  {
   "cell_type": "markdown",
   "metadata": {},
   "source": [
    "## Questao 2\n",
    "\n",
    "Utilize a estrutura if/else para imprimir a cidade dos usuários que gastaram mais de 100 horas de tempo na internet.\n",
    "\n",
    "Dica: Após a iteração dos elementos da lista (Através da estrutura condicional FOR), utilize a estrutura if/else para criar a condição dos valores da chave\n",
    "\n",
    "tempo_gasto_internet\n",
    "\n",
    "for dado_de_usuario in propaganda_online"
   ]
  },
  {
   "cell_type": "code",
   "execution_count": 4,
   "metadata": {},
   "outputs": [
    {
     "name": "stdout",
     "output_type": "stream",
     "text": [
      "Usuário 2: Cidade: CidadeB\n",
      "Usuário 5: Cidade: CidadeE\n",
      "Usuário 9: Cidade: CidadeI\n",
      "Usuário 12: Cidade: CidadeL\n",
      "Usuário 13: Cidade: CidadeM\n",
      "Usuário 16: Cidade: CidadeP\n",
      "Usuário 17: Cidade: CidadeQ\n",
      "Usuário 19: Cidade: CidadeS\n"
     ]
    }
   ],
   "source": [
    "# Gerando novas listas aleatórias\n",
    "tempo_gasto_site = [random.uniform(10, 120) for _ in range(20)]\n",
    "# O _ é uma convenção quando você precisa indicar uma variável não utilizável\n",
    "\n",
    "# Gerando novos valores para idade\n",
    "idade = [random.randint(18, 65) for _ in range(20)]\n",
    "\n",
    "# Gerando as cidades fictícias\n",
    "cidades = [\"CidadeA\", \"CidadeB\", \"CidadeC\", \"CidadeD\", \"CidadeE\", \"CidadeF\", \"CidadeG\", \"CidadeH\", \"CidadeI\", \"CidadeJ\",\n",
    "           \"CidadeK\", \"CidadeL\", \"CidadeM\", \"CidadeN\", \"CidadeO\", \"CidadeP\", \"CidadeQ\", \"CidadeR\", \"CidadeS\", \"CidadeT\"]\n",
    "\n",
    "# Inicializando uma lista vazia\n",
    "propaganda_online = []\n",
    "\n",
    "# Inicializando uma variável para representar os dados de usuário\n",
    "dados_de_usuario = 1\n",
    "\n",
    "# Início do loop\n",
    "for tempo_gasto_site_original in tempo_gasto_site:\n",
    "    tempo_gasto_site_modificado = tempo_gasto_site_original - random.uniform(1, 4)\n",
    "    propaganda_online.append(tempo_gasto_site_modificado)\n",
    "    if tempo_gasto_site_modificado > 60:\n",
    "        print(f\"Usuário {dados_de_usuario}: Cidade: {cidades[dados_de_usuario - 1]}\")\n",
    "\n",
    "    # Incrementa dados_de_usuario para o próximo usuário\n",
    "    dados_de_usuario += 1\n"
   ]
  },
  {
   "cell_type": "markdown",
   "metadata": {},
   "source": [
    "## Questão 3\n",
    "\n",
    "Utilize a estrutura try/except para imprimir as cidades dos usuários que passaram mais de 70 segundos no site.\n",
    "\n",
    "Dica: Realize o tratamento de exceções dentro da execução da iteração dos elementos da lista:\n",
    "\n",
    "for dado_de_usuario in propaganda_online:\n",
    "\n",
    "try:\n",
    "\n",
    "... except:\n",
    "\n",
    "..."
   ]
  },
  {
   "cell_type": "code",
   "execution_count": 5,
   "metadata": {},
   "outputs": [
    {
     "name": "stdout",
     "output_type": "stream",
     "text": [
      "Usuário 1: Cidade: CidadeA\n",
      "Usuário 2: Cidade: CidadeB\n",
      "Usuário 3: Cidade: CidadeC\n",
      "Usuário 4: Cidade: CidadeD\n",
      "Usuário 5: Cidade: CidadeE\n",
      "Usuário 6: Cidade: CidadeF\n",
      "Usuário 7: Cidade: CidadeG\n",
      "Usuário 8: Cidade: CidadeH\n",
      "Usuário 9: Cidade: CidadeI\n",
      "Usuário 10: Cidade: CidadeJ\n",
      "Usuário 11: Cidade: CidadeK\n",
      "Usuário 12: Cidade: CidadeL\n",
      "Usuário 13: Cidade: CidadeM\n",
      "Usuário 14: Cidade: CidadeN\n",
      "Usuário 15: Cidade: CidadeO\n",
      "Usuário 16: Cidade: CidadeP\n",
      "Usuário 17: Cidade: CidadeQ\n",
      "Usuário 18: Cidade: CidadeR\n",
      "Usuário 19: Cidade: CidadeS\n",
      "Usuário 20: Cidade: CidadeT\n"
     ]
    }
   ],
   "source": [
    "# Gerando novas listas aleatórias\n",
    "tempo_gasto_site = [random.uniform(10, 120) for _ in range(20)]\n",
    "# O _ é uma convenção quando você precisa indicar uma variável não utilizável\n",
    "\n",
    "# Gerando novos valores para idade\n",
    "idade = [random.randint(18, 65) for _ in range(20)]\n",
    "\n",
    "# Gerando as cidades fictícias\n",
    "cidades = [\"CidadeA\", \"CidadeB\", \"CidadeC\", \"CidadeD\", \"CidadeE\", \"CidadeF\", \"CidadeG\", \"CidadeH\", \"CidadeI\", \"CidadeJ\",\n",
    "           \"CidadeK\", \"CidadeL\", \"CidadeM\", \"CidadeN\", \"CidadeO\", \"CidadeP\", \"CidadeQ\", \"CidadeR\", \"CidadeS\", \"CidadeT\"]\n",
    "\n",
    "# Inicializando uma lista vazia\n",
    "propaganda_online = []\n",
    "\n",
    "# Inicializando uma variável para representar os dados de usuário\n",
    "dados_de_usuario = 1\n",
    "\n",
    "# Início do loop\n",
    "for tempo_gasto_site_original in tempo_gasto_site:\n",
    "    try:\n",
    "        # Convertendo minutos para segundos\n",
    "        tempo_gasto_site_original_segundos = tempo_gasto_site_original * 60\n",
    "\n",
    "        # Verificando se o tempo gasto é superior a 70 segundos\n",
    "        if tempo_gasto_site_original_segundos > 70:\n",
    "            # Imprime a cidade do usuário que passou mais de 70 segundos no site\n",
    "            print(f\"Usuário {dados_de_usuario}: Cidade: {cidades[dados_de_usuario - 1]}\")\n",
    "    except Exception as e:\n",
    "        # Se ocorrer uma exceção, imprima uma mensagem indicando o tipo de exceção\n",
    "        print(f\"Exceção: {type(e).__name__} - Usuário {dados_de_usuario}\")\n",
    "\n",
    "    # Incrementa dados_de_usuario para o próximo usuário\n",
    "    dados_de_usuario += 1\n",
    "\n"
   ]
  }
 ],
 "metadata": {
  "kernelspec": {
   "display_name": "Python 3",
   "language": "python",
   "name": "python3"
  },
  "language_info": {
   "codemirror_mode": {
    "name": "ipython",
    "version": 3
   },
   "file_extension": ".py",
   "mimetype": "text/x-python",
   "name": "python",
   "nbconvert_exporter": "python",
   "pygments_lexer": "ipython3",
   "version": "3.11.7"
  }
 },
 "nbformat": 4,
 "nbformat_minor": 2
}
