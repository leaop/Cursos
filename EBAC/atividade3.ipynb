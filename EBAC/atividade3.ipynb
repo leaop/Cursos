{
 "cells": [
  {
   "cell_type": "markdown",
   "metadata": {},
   "source": [
    "# Atividade 3 \n",
    "\n",
    "<img src=\"https://raw.githubusercontent.com/andre-marcos-perez/ebac-course-utils/main/media/logo/newebac_logo_black_half.png\" alt=\"ebac-logo\">\n",
    "\n",
    "\n",
    "--- "
   ]
  },
  {
   "cell_type": "markdown",
   "metadata": {},
   "source": [
    "## Questão 1\n",
    "\n",
    "Estrutura condicional for/in\n",
    "\n",
    "- Imprima os seguintes valores da lista: tempo_gasto_site e idade\n",
    "- Extraia os valores da chave tempo_gasto_site\n",
    "- for dado_de_usuário in propaganda_online\n",
    "- Extraia os valores da chave idade\n",
    "- for dado_de_usuário im propaganda_online"
   ]
  },
  {
   "cell_type": "code",
   "execution_count": 7,
   "metadata": {},
   "outputs": [],
   "source": [
    "propaganda_online = [\n",
    "  {'tempo_gasto_site': 68.95, 'idade': 35, 'renda_area': 61833.90, 'tempo_gasto_internet': 256.09, 'cidade': 'Wrightburgh', 'pais': 'Tunisia', 'clicou_no_ad': 0},\n",
    "  {'tempo_gasto_site': 80.23, 'idade': 31, 'renda_area': 68441.85, 'tempo_gasto_internet': 193.77, 'cidade': 'West Jodi', 'pais': 'Nauru', 'clicou_no_ad': 0},\n",
    "  {'tempo_gasto_site': 69.47, 'idade': 26, 'renda_area': 59785.94, 'tempo_gasto_internet': 236.50, 'cidade': 'Davidton', 'pais': 'San Marino', 'clicou_no_ad': 0},\n",
    "  {'tempo_gasto_site': 68.37, 'idade': 35, 'renda_area': 73889.99, 'tempo_gasto_internet': 225.58, 'cidade': 'South Manuel', 'pais': 'Iceland', 'clicou_no_ad': 0},\n",
    "  {'tempo_gasto_site': 88.91, 'idade': 33, 'renda_area': 53852.85, 'tempo_gasto_internet': 208.36, 'cidade': 'Brandonstad', 'pais': 'Myanmar', 'clicou_no_ad': 0},\n",
    "  {'tempo_gasto_site': None, 'idade': 48, 'renda_area': 24593.33, 'tempo_gasto_internet': 131.76, 'cidade': 'Port Jefferybury', 'pais': 'Australia', 'clicou_no_ad': 1},\n",
    "  {'tempo_gasto_site': 74.53, 'idade': 30, 'renda_area': 68862.00, 'tempo_gasto_internet': 221.51, 'cidade': 'West Colin', 'pais': 'Grenada'},\n",
    "  {'tempo_gasto_site': 69.88, 'idade': 20, 'renda_area': 55642.32, 'tempo_gasto_internet': 183.82, 'cidade': 'Ramirezton', 'pais': 'Ghana', 'clicou_no_ad': 0}\n",
    "]"
   ]
  },
  {
   "cell_type": "code",
   "execution_count": 8,
   "metadata": {},
   "outputs": [
    {
     "name": "stdout",
     "output_type": "stream",
     "text": [
      "Tempo Gasto no Site: 68.95, Idade: 35\n",
      "Tempo Gasto no Site: 80.23, Idade: 31\n",
      "Tempo Gasto no Site: 69.47, Idade: 26\n",
      "Tempo Gasto no Site: 68.37, Idade: 35\n",
      "Tempo Gasto no Site: 88.91, Idade: 33\n"
     ]
    }
   ],
   "source": [
    "# Imprimir os 5 primeiros elementos (padrão de outras bibliotecas)\n",
    "for dado_de_usuario in propaganda_online[:5]:# Para a variável vazia (dado_de_usuário) dentro de propaganda_online [limitada a 5]\n",
    "    # vai receber o tempo gasto e idade\n",
    "    print(f\"Tempo Gasto no Site: {dado_de_usuario['tempo_gasto_site']}, Idade: {dado_de_usuario['idade']}\")"
   ]
  },
  {
   "cell_type": "code",
   "execution_count": 9,
   "metadata": {},
   "outputs": [
    {
     "name": "stdout",
     "output_type": "stream",
     "text": [
      "Tempo gasto em propaganda: 256.09\n",
      "Tempo gasto em propaganda: 193.77\n",
      "Tempo gasto em propaganda: 236.5\n",
      "Tempo gasto em propaganda: 225.58\n",
      "Tempo gasto em propaganda: 208.36\n",
      "Tempo gasto em propaganda: 131.76\n",
      "Tempo gasto em propaganda: 221.51\n",
      "Tempo gasto em propaganda: 183.82\n"
     ]
    }
   ],
   "source": [
    "for dado_de_usuario in propaganda_online:\n",
    "    print(f\"Tempo gasto em propaganda: {dado_de_usuario['tempo_gasto_internet']}\")"
   ]
  },
  {
   "cell_type": "markdown",
   "metadata": {},
   "source": [
    "## Questao 2\n",
    "\n",
    "Utilize a estrutura if/else para imprimir a cidade dos usuários que gastaram mais de 100 horas de tempo na internet.\n",
    "\n",
    "Dica: Após a iteração dos elementos da lista (Através da estrutura condicional FOR), utilize a estrutura if/else para criar a condição dos valores da chave\n",
    "\n",
    "tempo_gasto_internet\n",
    "\n",
    "for dado_de_usuario in propaganda_online"
   ]
  },
  {
   "cell_type": "code",
   "execution_count": 18,
   "metadata": {},
   "outputs": [
    {
     "name": "stdout",
     "output_type": "stream",
     "text": [
      "Usuário 1: Cidade de Wrightburgh\n",
      "Usuário 2: Cidade de West Jodi\n",
      "Usuário 3: Cidade de Davidton\n",
      "Usuário 4: Cidade de South Manuel\n",
      "Usuário 5: Cidade de Brandonstad\n",
      "Usuário 6: Cidade de Port Jefferybury\n",
      "Usuário 7: Cidade de West Colin\n",
      "Usuário 8: Cidade de Ramirezton\n"
     ]
    }
   ],
   "source": [
    "# Inicializando uma variável para representar os dados de usuário\n",
    "dados_de_usuario = 1\n",
    "\n",
    "# Início do loop\n",
    "for usuario in propaganda_online:\n",
    "    tempo_gasto_internet_horas = usuario.get('tempo_gasto_internet', 0)\n",
    "\n",
    "    if tempo_gasto_internet_horas > 100:\n",
    "        print(f\"Usuário {dados_de_usuario}: Cidade de {usuario['cidade']}\")\n",
    "    else:\n",
    "        print(f\"Usuário {dados_de_usuario} não gastou mais de 100 horas na internet\")\n",
    "\n",
    "    # Incrementa dados_de_usuario para o próximo usuário\n",
    "    dados_de_usuario += 1"
   ]
  },
  {
   "cell_type": "markdown",
   "metadata": {},
   "source": [
    "## Questão 3\n",
    "\n",
    "Utilize a estrutura try/except para imprimir as cidades dos usuários que passaram mais de 70 segundos no site.\n",
    "\n",
    "Dica: Realize o tratamento de exceções dentro da execução da iteração dos elementos da lista:\n",
    "\n",
    "for dado_de_usuario in propaganda_online:\n",
    "\n",
    "try:\n",
    "\n",
    "... except:\n",
    "\n",
    "..."
   ]
  },
  {
   "cell_type": "code",
   "execution_count": 20,
   "metadata": {},
   "outputs": [
    {
     "name": "stdout",
     "output_type": "stream",
     "text": [
      "Usuário 1 não passou mais de 70 segundos no site\n",
      "Usuário 2: Cidade de West Jodi\n",
      "Usuário 3 não passou mais de 70 segundos no site\n",
      "Usuário 4 não passou mais de 70 segundos no site\n",
      "Usuário 5: Cidade de Brandonstad\n",
      "Usuário 6: Valor de tempo_gasto_site é do tipo incorreto.\n",
      "Usuário 7: Cidade de West Colin\n",
      "Usuário 8 não passou mais de 70 segundos no site\n"
     ]
    }
   ],
   "source": [
    "# Inicializando uma variável para representar os dados de usuário\n",
    "dados_de_usuario = 1\n",
    "\n",
    "# Início do loop\n",
    "for usuario in propaganda_online:\n",
    "    try:\n",
    "        tempo_gasto_site_segundos = usuario['tempo_gasto_site']\n",
    "\n",
    "        if tempo_gasto_site_segundos > 70:\n",
    "            print(f\"Usuário {dados_de_usuario}: Cidade de {usuario['cidade']}\")\n",
    "        else:\n",
    "            print(f\"Usuário {dados_de_usuario} não passou mais de 70 segundos no site\")\n",
    "\n",
    "    except KeyError:\n",
    "        print(f\"Usuário {dados_de_usuario}: Dados de tempo_gasto_site não disponíveis.\")\n",
    "    except TypeError:\n",
    "        print(f\"Usuário {dados_de_usuario}: Valor de tempo_gasto_site é do tipo incorreto.\")\n",
    "\n",
    "    # Incrementa dados_de_usuario para o próximo usuário\n",
    "    dados_de_usuario += 1\n"
   ]
  }
 ],
 "metadata": {
  "kernelspec": {
   "display_name": "Python 3",
   "language": "python",
   "name": "python3"
  },
  "language_info": {
   "codemirror_mode": {
    "name": "ipython",
    "version": 3
   },
   "file_extension": ".py",
   "mimetype": "text/x-python",
   "name": "python",
   "nbconvert_exporter": "python",
   "pygments_lexer": "ipython3",
   "version": "3.11.7"
  }
 },
 "nbformat": 4,
 "nbformat_minor": 2
}
