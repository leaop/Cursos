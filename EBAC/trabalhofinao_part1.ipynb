{
 "cells": [
  {
   "cell_type": "markdown",
   "metadata": {},
   "source": [
    "# Projeto: Criação e Integração de Bot do Telegram\n",
    "\n",
    "Este notebook orienta os passos para criar um bot do Telegram, configurá-lo como administrador de um grupo e, por fim, realizar a ingestão de mensagens do grupo utilizando a API de bots do Telegram.\n",
    "\n",
    "## O que vamos cobrir:\n",
    "1. Criar uma conta no Telegram.\n",
    "2. Criar um bot.\n",
    "3. Criar um grupo e adicionar o bot.\n",
    "4. Tornar o bot administrador do grupo.\n",
    "5. Desabilitar a opção de adicionar o bot a novos grupos.\n",
    "6. Enviar mensagens no grupo.\n",
    "7. Consumir essas mensagens usando a API de bots do Telegram.\n",
    "8. Explicação simples sobre como a API do Telegram funciona e como usamos o `requests`.\n",
    "\n",
    "---\n",
    "\n",
    "## 1. Crie uma Conta no Telegram\n",
    "Acesse o Telegram Web para criar uma conta:\n",
    "- [Link do Telegram Web](https://web.telegram.org/)\n",
    "\n",
    "**Evidência**: print de tela da sua conta criada no Telegram.\n"
   ]
  },
  {
   "cell_type": "markdown",
   "metadata": {},
   "source": [
    "![Descrição da Imagem](/Users/leaoneto/Documents/GitHub/Graduation/Cursos/EBAC/IMG_1628.jpg)"
   ]
  },
  {
   "cell_type": "markdown",
   "metadata": {},
   "source": [
    "## 2. Crie uma Bot no Telegram\n",
    "\t1.\tAbra o Telegram e busque pelo bot “BotFather”.\n",
    "\t2.\tEnvie o comando /newbot para criar um novo bot.\n",
    "\t3.\tDê um nome e um username exclusivo para o seu bot.\n",
    "\t4.\tO BotFather irá fornecer um token de acesso para a API do seu bot.\n",
    "\n",
    "**Evidência**\n"
   ]
  },
  {
   "cell_type": "markdown",
   "metadata": {},
   "source": [
    "![Bot Criado](/Users/leaoneto/Documents/GitHub/Graduation/Cursos/EBAC/Botelegram.PNG)"
   ]
  },
  {
   "cell_type": "markdown",
   "metadata": {},
   "source": [
    "## 3. Crie um Grupo e adicione o bot, depois torne adminstrador do grupo\n",
    "\t1.\tVá até a opção “Novo Grupo” e crie um novo grupo.\n",
    "\t2.\tAdicione seu bot como participante do grupo.\n",
    "\t3.\tAbra as configurações do grupo.\n",
    "\t4.\tVá até “Administradores” e promova o bot a administrador.\n",
    "\n",
    "**Evidência**"
   ]
  },
  {
   "cell_type": "markdown",
   "metadata": {},
   "source": [
    "![Bot Administrador](/Users/leaoneto/Documents/GitHub/Graduation/Cursos/EBAC/grupo_criado.PNG)"
   ]
  },
  {
   "cell_type": "markdown",
   "metadata": {},
   "source": [
    "## 4. Desabilitando a inserçao de novos grupos\n",
    "\t1.\tVá até o BotFather.\n",
    "\t2.\tUse o comando /setjoingroups e selecione o bot que deseja configurar.\n",
    "\t3.\tDesabilite a opção de ser adicionado a novos grupos.\n",
    "**Evidência**\n"
   ]
  },
  {
   "cell_type": "markdown",
   "metadata": {},
   "source": [
    "![Grupo_desabilitado](/Users/leaoneto/Documents/GitHub/Graduation/Cursos/EBAC/grupo_desabilitado.jpeg)"
   ]
  },
  {
   "cell_type": "markdown",
   "metadata": {},
   "source": [
    "## 5. Criaçao de conteudo\n",
    "Acessando o grupo para inserir mensagens\n",
    "\n",
    "**Evidência**\n"
   ]
  },
  {
   "cell_type": "markdown",
   "metadata": {},
   "source": [
    "![mensagem](/Users/leaoneto/Documents/GitHub/Graduation/Cursos/EBAC/mensagens.PNG)"
   ]
  },
  {
   "cell_type": "markdown",
   "metadata": {},
   "source": [
    "## 6. Consumo de conteudo por API\n",
    "\n",
    "\n",
    "import requests\n",
    "\n",
    "* Substitua pelo token do seu bot\n",
    "BOT_TOKEN = 'SEU_TOKEN'\n",
    "url = f\"https://api.telegram.org/bot{BOT_TOKEN}/getUpdates\"\n",
    "\n",
    "* Fazendo a requisição para obter as mensagens\n",
    "response = requests.get(url)\n",
    "updates = response.json()\n",
    "\n",
    "* Exibindo as mensagens recebidas\n",
    "for update in updates['result']:\n",
    "    print(update['message'])\n",
    "\n",
    "Aqui podemos fazer o teste se todos os links fornecidos estão corretos, logico que com as devidas discrições. \n",
    "\n",
    "O que foi feito aqui foi a utlização do requests com variáveis estabelecidas anteriormente, para que não fique expostos nos códigos os tokens individuais de cada bot e suas URls. \n",
    "\n",
    "Assim qualquer um pode testar para seu proprio bot. \n",
    "**Evidência**\n"
   ]
  },
  {
   "cell_type": "markdown",
   "metadata": {},
   "source": [
    "![consumindo_api](/Users/leaoneto/Documents/GitHub/Graduation/Cursos/EBAC/consumo_c.png)"
   ]
  }
 ],
 "metadata": {
  "language_info": {
   "name": "python"
  }
 },
 "nbformat": 4,
 "nbformat_minor": 2
}
