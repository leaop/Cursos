{
 "cells": [
  {
   "cell_type": "markdown",
   "metadata": {
    "id": "KJqp9AANOCtf"
   },
   "source": [
    "<img src=\"https://raw.githubusercontent.com/andre-marcos-perez/ebac-course-utils/main/media/logo/newebac_logo_black_half.png\" alt=\"ebac-logo\">\n",
    "\n",
    "---\n",
    "\n",
    "# **Módulo** | Python: Arquivos & Funções\n",
    "Caderno de **Exercícios**<br> \n",
    "Professor [André Perez](https://www.linkedin.com/in/andremarcosperez/)\n",
    "\n",
    "---"
   ]
  },
  {
   "cell_type": "markdown",
   "metadata": {
    "id": "d9jDtUbDOE1-"
   },
   "source": [
    "# **Tópicos**\n",
    "\n",
    "<ol type=\"1\">\n",
    "  <li>Leitura;</li>\n",
    "  <li>Escrita;</li>\n",
    "  <li>Funções;</li>\n",
    "  <li>Escopo.</li>\n",
    "</ol>"
   ]
  },
  {
   "cell_type": "markdown",
   "metadata": {
    "id": "SmoHgt-lwkpD"
   },
   "source": [
    "---"
   ]
  },
  {
   "cell_type": "markdown",
   "metadata": {
    "id": "GABI6OW8OfQ2"
   },
   "source": [
    "# **Exercícios**"
   ]
  },
  {
   "cell_type": "markdown",
   "metadata": {
    "id": "muD1vxozykSC"
   },
   "source": [
    "## 0\\. Preparação do ambiente"
   ]
  },
  {
   "cell_type": "markdown",
   "metadata": {
    "id": "ahrFfCuBxJKs"
   },
   "source": [
    "Neste exercício vamos trabalhar com os arquivos de csv e texto definidos abaixo. Execute cada uma das células de código para escrever os arquivos na sua máquina virtual."
   ]
  },
  {
   "cell_type": "markdown",
   "metadata": {
    "id": "u0uFuhRSq_hQ"
   },
   "source": [
    "* **carros.csv**: arquivo csv com informações sobre carros (venda, manutenção, portas, etc.)."
   ]
  },
  {
   "cell_type": "code",
   "execution_count": 1,
   "metadata": {
    "id": "daMf-xaXqKs2"
   },
   "outputs": [
    {
     "name": "stdout",
     "output_type": "stream",
     "text": [
      "Writing carros.csv\n"
     ]
    }
   ],
   "source": [
    "%%writefile carros.csv\n",
    "id,valor_venda,valor_manutencao,portas,pessoas,porta_malas\n",
    "1,vhigh,med,2,2,small\n",
    "2,med,vhigh,2,2,small\n",
    "3,low,vhigh,2,2,small\n",
    "4,low,high,2,2,small\n",
    "5,low,high,2,2,small\n",
    "6,low,high,4,4,big\n",
    "7,low,high,4,4,big\n",
    "8,low,med,2,2,small\n",
    "9,low,med,2,2,small\n",
    "10,low,med,2,2,small\n",
    "11,low,med,4,4,big\n",
    "12,low,low,2,2,small\n",
    "13,low,low,4,4,small\n",
    "14,low,low,4,4,med"
   ]
  },
  {
   "cell_type": "markdown",
   "metadata": {
    "id": "X0Z2PhbCrTz1"
   },
   "source": [
    "* **musica.txt**: arquivo texto com a letra da música Roda Viva do Chico Buarque."
   ]
  },
  {
   "cell_type": "code",
   "execution_count": 2,
   "metadata": {
    "id": "m7Ge2rggrU73"
   },
   "outputs": [
    {
     "name": "stdout",
     "output_type": "stream",
     "text": [
      "Writing musica.txt\n"
     ]
    }
   ],
   "source": [
    "%%writefile musica.txt\n",
    "Roda Viva\n",
    "Chico Buarque\n",
    "\n",
    "Tem dias que a gente se sente\n",
    "Como quem partiu ou morreu\n",
    "A gente estancou de repente\n",
    "Ou foi o mundo então que cresceu\n",
    "A gente quer ter voz ativa\n",
    "No nosso destino mandar\n",
    "Mas eis que chega a roda viva\n",
    "E carrega o destino pra lá\n",
    "\n",
    "Roda mundo, roda-gigante\n",
    "Roda moinho, roda pião\n",
    "\n",
    "O tempo rodou num instante\n",
    "Nas voltas do meu coração\n",
    "A gente vai contra a corrente\n",
    "Até não poder resistir\n",
    "Na volta do barco é que sente\n",
    "O quanto deixou de cumprir\n",
    "Faz tempo que a gente cultiva\n",
    "A mais linda roseira que há\n",
    "Mas eis que chega a roda viva\n",
    "E carrega a roseira pra lá\n",
    "\n",
    "Roda mundo, roda-gigante\n",
    "Roda moinho, roda pião"
   ]
  },
  {
   "cell_type": "markdown",
   "metadata": {
    "id": "zMN1Q3jdwoJm"
   },
   "source": [
    "---"
   ]
  },
  {
   "cell_type": "markdown",
   "metadata": {},
   "source": [
    "## 1. Extração de coluna de arquivo csv "
   ]
  },
  {
   "cell_type": "markdown",
   "metadata": {},
   "source": [
    "1.1. Extraia os valores `valor_venda` e armazena em uma lista."
   ]
  },
  {
   "cell_type": "code",
   "execution_count": 5,
   "metadata": {},
   "outputs": [
    {
     "name": "stdout",
     "output_type": "stream",
     "text": [
      "['1', '2', '3', '4', '5', '6', '7', '8', '9', '10', '11', '12', '13', '14']\n"
     ]
    }
   ],
   "source": [
    "valor_venda = []\n",
    "\n",
    "with open(file='./carros.csv', mode='r', encoding='utf8') as arquivo:\n",
    "    line = arquivo.readline()  # lê o cabeçalho\n",
    "    line = arquivo.readline()  # lê a primeira linha\n",
    "    while line:\n",
    "        separate_line = line.split(sep=',')  # quebra a string nas vírgulas e salva os resultados em uma lista\n",
    "        valor_vendas = separate_line[0]  # seleciona o segundo elemento da lista\n",
    "        valor_venda.append(valor_vendas)  # salva o valor na lista de valor_venda\n",
    "        line = arquivo.readline()  # lê uma nova linha, se a linha não existir, salva o valor None\n",
    "\n",
    "print(valor_venda)\n"
   ]
  },
  {
   "cell_type": "markdown",
   "metadata": {},
   "source": [
    "1.2 Complete a função abaixo para extrair uma coluna, do arquivo csv em uma lista.\n"
   ]
  },
  {
   "cell_type": "code",
   "execution_count": 15,
   "metadata": {},
   "outputs": [],
   "source": [
    "def extrai_coluna_csv(nome_arquivo: str, indice_coluna: int):\n",
    "    coluna = []\n",
    "\n",
    "    with open(file=nome_arquivo, mode='r', encoding='utf8') as arquivo:\n",
    "        # Lê o cabeçalho para saber o nome das colunas\n",
    "        header = arquivo.readline().strip().split(',')\n",
    "        nome_coluna = header[indice_coluna]\n",
    "\n",
    "        # Encontra o índice da coluna desejada no cabeçalho\n",
    "        indice_coluna = header.index(nome_coluna)\n",
    "\n",
    "        # Itera sobre as linhas do arquivo\n",
    "        for line in arquivo:\n",
    "            # Quebra a linha nas vírgulas e extrai o valor da coluna desejada\n",
    "            valores = line.strip().split(',')\n",
    "            valor_coluna = valores[indice_coluna]\n",
    "\n",
    "            # Adiciona o valor da coluna à lista\n",
    "            coluna.append(valor_coluna)\n",
    "\n",
    "    return coluna"
   ]
  },
  {
   "cell_type": "code",
   "execution_count": 17,
   "metadata": {},
   "outputs": [
    {
     "name": "stdout",
     "output_type": "stream",
     "text": [
      "['2', '2', '2', '2', '2', '4', '4', '2', '2', '2', '4', '2', '4', '4']\n"
     ]
    }
   ],
   "source": [
    "nome_arquivo = './carros.csv'\n",
    "indice_coluna = 3 # Substituindo pelo índice da coluna desejada\n",
    "coluna_extraida = extrai_coluna_csv(nome_arquivo, indice_coluna)\n",
    "print(coluna_extraida)"
   ]
  },
  {
   "cell_type": "markdown",
   "metadata": {},
   "source": [
    "Você pode testar a função com os códigos abaixo."
   ]
  },
  {
   "cell_type": "code",
   "execution_count": 18,
   "metadata": {},
   "outputs": [
    {
     "name": "stdout",
     "output_type": "stream",
     "text": [
      "['med', 'vhigh', 'vhigh', 'high', 'high', 'high', 'high', 'med', 'med', 'med', 'med', 'low', 'low', 'low']\n"
     ]
    }
   ],
   "source": [
    "# extrair a coluna valor_manutencao\n",
    "valor_manutencao = extrai_coluna_csv(nome_arquivo='./carros.csv', indice_coluna=2)\n",
    "print(valor_manutencao) # deve retornar ['med', 'vhigh', 'vhigh', ...]"
   ]
  },
  {
   "cell_type": "code",
   "execution_count": 19,
   "metadata": {},
   "outputs": [
    {
     "name": "stdout",
     "output_type": "stream",
     "text": [
      "['small', 'small', 'small', 'small', 'small', 'big', 'big', 'small', 'small', 'small', 'big', 'small', 'small', 'med']\n"
     ]
    }
   ],
   "source": [
    "# extrair a coluna porta_malas\n",
    "porta_malas = extrai_coluna_csv(nome_arquivo='./carros.csv', indice_coluna=5)\n",
    "print(porta_malas) # deve retornar ['small', 'small', 'small', ...]"
   ]
  },
  {
   "cell_type": "markdown",
   "metadata": {},
   "source": [
    "# Exercício bônus"
   ]
  },
  {
   "cell_type": "markdown",
   "metadata": {
    "id": "U4S19ZvHsPcE"
   },
   "source": [
    "## 1\\. Funções para arquivo csv"
   ]
  },
  {
   "cell_type": "markdown",
   "metadata": {
    "id": "Mcf3mkOrtHzK"
   },
   "source": [
    "Complete a função abaixo para extrair uma coluna do arquivo csv em uma lista. Os elementos devem ter o tipo de dado correto."
   ]
  },
  {
   "cell_type": "code",
   "execution_count": 28,
   "metadata": {
    "id": "W-1PAg7Ctt7i"
   },
   "outputs": [],
   "source": [
    "def extrai_coluna_csv(nome_arquivo: str, indice_coluna: int, tipo_dado: str):\n",
    "    coluna = []\n",
    "\n",
    "    with open(file=nome_arquivo, mode='r', encoding='utf8') as arquivo:\n",
    "        # Lê o cabeçalho para saber o nome das colunas\n",
    "        header = arquivo.readline().strip().split(',')\n",
    "        nome_coluna = header[indice_coluna]\n",
    "\n",
    "        # Encontra o índice da coluna desejada no cabeçalho\n",
    "        indice_coluna = header.index(nome_coluna)\n",
    "\n",
    "        # Itera sobre as linhas do arquivo\n",
    "        for line in arquivo:\n",
    "            # Quebra a linha nas vírgulas e extrai o valor da coluna desejada\n",
    "            valores = line.strip().split(',')\n",
    "            valor_coluna = valores[indice_coluna]\n",
    "\n",
    "            # Converte o valor para o tipo de dado especificado\n",
    "            if tipo_dado == 'int':\n",
    "                valor_coluna = int(valor_coluna)\n",
    "            elif tipo_dado == 'float':\n",
    "                valor_coluna = float(valor_coluna)\n",
    "            elif tipo_dado == 'str':\n",
    "                valor_coluna = str(valor_coluna)\n",
    "\n",
    "            # Adiciona o valor da coluna convertido à lista\n",
    "            coluna.append(valor_coluna)\n",
    "\n",
    "    return coluna"
   ]
  },
  {
   "cell_type": "code",
   "execution_count": 29,
   "metadata": {},
   "outputs": [
    {
     "name": "stdout",
     "output_type": "stream",
     "text": [
      "[2.0, 2.0, 2.0, 2.0, 2.0, 4.0, 4.0, 2.0, 2.0, 2.0, 4.0, 2.0, 4.0, 4.0]\n"
     ]
    }
   ],
   "source": [
    "nome_arquivo = './carros.csv'  # Substitua pelo nome do seu arquivo\n",
    "indice_coluna = 3  # Substitua pelo índice da coluna desejada\n",
    "tipo_dado = 'float'  # Substitua pelo tipo de dado desejado ('int', 'float', 'str', etc.)\n",
    "coluna_extraida = extrai_coluna_csv(nome_arquivo, indice_coluna, tipo_dado)\n",
    "print(coluna_extraida)\n"
   ]
  },
  {
   "cell_type": "markdown",
   "metadata": {
    "id": "qCbQF6jru_01"
   },
   "source": [
    "Você pode testar a função com os códigos abaixo."
   ]
  },
  {
   "cell_type": "code",
   "execution_count": null,
   "metadata": {
    "id": "Rl-EYdySu90s"
   },
   "outputs": [],
   "source": [
    "# extrair a coluna valor_venda\n",
    "valor_venda = extrai_coluna_csv(nome_arquivo='./carros.csv', indice_coluna=1, tipo_dado='str')\n",
    "print(valor_venda) # deve retornar ['vhigh', 'med', 'low', ...]"
   ]
  },
  {
   "cell_type": "code",
   "execution_count": null,
   "metadata": {
    "id": "hvD-zzwDwboD"
   },
   "outputs": [],
   "source": [
    "# extrair a coluna pessoas\n",
    "pessoas = extrai_coluna_csv(nome_arquivo='./carros.csv', indice_coluna=4, tipo_dado='int')\n",
    "print(pessoas) # deve retornar [2, 2, 2, ...]"
   ]
  },
  {
   "cell_type": "markdown",
   "metadata": {
    "id": "QTS5-sSbs4ie"
   },
   "source": [
    "---"
   ]
  },
  {
   "cell_type": "markdown",
   "metadata": {
    "id": "sebqs6uztCH4"
   },
   "source": [
    "## 2\\. Funções para arquivo txt"
   ]
  },
  {
   "cell_type": "markdown",
   "metadata": {
    "id": "IFVBGkNhzB3P"
   },
   "source": [
    "Complete a função abaixo para extrair uma as palavras de uma linha do arquivo txt em uma lista."
   ]
  },
  {
   "cell_type": "code",
   "execution_count": 21,
   "metadata": {
    "id": "ewrNqMtczWZJ"
   },
   "outputs": [],
   "source": [
    "def extrai_linha_txt(nome_arquivo: str, numero_linha: int):\n",
    "    palavras_linha = []\n",
    "\n",
    "    with open(file=nome_arquivo, mode='r', encoding='utf8') as arquivo:\n",
    "        # Itera até a linha desejada\n",
    "        for _ in range(numero_linha - 1):\n",
    "            linha = arquivo.readline()\n",
    "\n",
    "        # Lê a linha desejada\n",
    "        linha = arquivo.readline()\n",
    "        if linha:\n",
    "            palavras_linha = linha.strip().split()  # Remove espaços em branco e quebra a linha em palavras\n",
    "\n",
    "    return palavras_linha"
   ]
  },
  {
   "cell_type": "code",
   "execution_count": 26,
   "metadata": {},
   "outputs": [
    {
     "name": "stdout",
     "output_type": "stream",
     "text": [
      "[]\n"
     ]
    }
   ],
   "source": [
    "nome_arquivo = './musica.txt'\n",
    "numero_linha = 3  # Substituindo pelo número da linha desejada\n",
    "palavras_linha = extrai_linha_txt(nome_arquivo, numero_linha)\n",
    "print(palavras_linha)"
   ]
  },
  {
   "cell_type": "markdown",
   "metadata": {
    "id": "Qz2UwipIz0t2"
   },
   "source": [
    "Você pode testar a função com os códigos abaixo."
   ]
  },
  {
   "cell_type": "code",
   "execution_count": 23,
   "metadata": {
    "id": "_Wxp43qqz1V2"
   },
   "outputs": [
    {
     "name": "stdout",
     "output_type": "stream",
     "text": [
      "['Mas', 'eis', 'que', 'chega', 'a', 'roda', 'viva']\n"
     ]
    }
   ],
   "source": [
    "linha10 = extrai_linha_txt(nome_arquivo='./musica.txt', numero_linha=10)\n",
    "print(linha10) # deve retornar ['Mas', 'eis', 'que', 'chega', 'a', 'roda', 'viva']"
   ]
  },
  {
   "cell_type": "markdown",
   "metadata": {
    "id": "Fo9qTjietCH6"
   },
   "source": [
    "---"
   ]
  }
 ],
 "metadata": {
  "colab": {
   "authorship_tag": "ABX9TyOClt3xfm9K9bkLTnz9zgkf",
   "collapsed_sections": [],
   "name": "module_4_exercise.ipynb",
   "provenance": [],
   "toc_visible": true
  },
  "kernelspec": {
   "display_name": "Python 3 (ipykernel)",
   "language": "python",
   "name": "python3"
  },
  "language_info": {
   "codemirror_mode": {
    "name": "ipython",
    "version": 3
   },
   "file_extension": ".py",
   "mimetype": "text/x-python",
   "name": "python",
   "nbconvert_exporter": "python",
   "pygments_lexer": "ipython3",
   "version": "3.11.7"
  }
 },
 "nbformat": 4,
 "nbformat_minor": 1
}
