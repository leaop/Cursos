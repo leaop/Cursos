{
 "cells": [
  {
   "cell_type": "code",
   "execution_count": 2,
   "metadata": {},
   "outputs": [
    {
     "name": "stdout",
     "output_type": "stream",
     "text": [
      "Base de dados baixada com sucesso para supermarket_transaction.csv\n"
     ]
    }
   ],
   "source": [
    "import requests\n",
    "\n",
    "def download_kaggle_dataset(url, output_file):\n",
    "    try:\n",
    "        response = requests.get(url)\n",
    "        if response.status_code == 200:\n",
    "            with open(output_file, 'wb') as file:\n",
    "                file.write(response.content)\n",
    "            print(f\"Base de dados baixada com sucesso para {output_file}\")\n",
    "        else:\n",
    "            print(f\"Erro ao baixar a base de dados. Status code: {response.status_code}\")\n",
    "    except Exception as e:\n",
    "        print(f\"Erro durante a requisição: {e}\")\n",
    "\n",
    "# URL da base de dados de testes no Kaggle\n",
    "kaggle_url = \"https://www.kaggle.com/datasets/josephlovins/supermarket-transactions?select=Supermarket+Transactions.xlsx\"\n",
    "\n",
    "# Nome do arquivo de saída\n",
    "output_filename = \"supermarket_transaction.csv\"\n",
    "\n",
    "# Chama a função para baixar a base de dados\n",
    "download_kaggle_dataset(kaggle_url, output_filename)\n"
   ]
  }
 ],
 "metadata": {
  "kernelspec": {
   "display_name": "Python 3",
   "language": "python",
   "name": "python3"
  },
  "language_info": {
   "codemirror_mode": {
    "name": "ipython",
    "version": 3
   },
   "file_extension": ".py",
   "mimetype": "text/x-python",
   "name": "python",
   "nbconvert_exporter": "python",
   "pygments_lexer": "ipython3",
   "version": "3.11.8"
  }
 },
 "nbformat": 4,
 "nbformat_minor": 2
}
